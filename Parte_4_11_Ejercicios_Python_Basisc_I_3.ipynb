{
 "cells": [
  {
   "cell_type": "markdown",
   "metadata": {
    "id": "DPnfqr3u-F1r"
   },
   "source": [
    "![TheBridge_logo_RGB_color.jpg](attachment:TheBridge_logo_RGB_color.jpg)"
   ]
  },
  {
   "cell_type": "markdown",
   "metadata": {
    "id": "3awg8Ph6-F12"
   },
   "source": [
    "![imagen](./img/ejercicios.png)"
   ]
  },
  {
   "cell_type": "markdown",
   "metadata": {
    "id": "gAlQqrFn-F13"
   },
   "source": [
    "## EJERCICIOS PYTHON BASICO 3:\n",
    "## Operaciones matemáticas, comparación y booleanas"
   ]
  },
  {
   "cell_type": "markdown",
   "metadata": {
    "id": "wWdjTLGq-F14"
   },
   "source": [
    "Completa los siguiente ejercicios, la solución completa a los mismos se publicarán en el repo del curso a lo largo del sprint. En algunos ejercicios se muestra la solución final, para que puedas comprobar que lo has hecho bien, pero lo importante es el código que generes. ¡Vaaamos, a ello...!"
   ]
  },
  {
   "cell_type": "markdown",
   "metadata": {
    "id": "lzm4CEOw-F16"
   },
   "source": [
    "![ejercicio.png](./img/ejercicio.png)\n",
    "\n",
    "\n",
    "## Ejercicio 1\n",
    "Tenemos las siguientes variables:\n",
    "\n",
    "```Python\n",
    "A = 4\n",
    "B = \"Text\"\n",
    "C = 4.1\n",
    "```\n",
    "\n",
    "Comprueba:\n",
    "1. Si A y B son equivalentes\n",
    "2. Si A y C NO son equivalentes\n",
    "3. Si A es mayor que C\n",
    "4. Si C es menor o igual que A\n",
    "5. Si B NO es equivalente a C"
   ]
  },
  {
   "cell_type": "code",
   "execution_count": 4,
   "metadata": {
    "id": "koHI_OVF-F17",
    "outputId": "a6f7265e-a532-4132-98ca-4db19899d166"
   },
   "outputs": [
    {
     "name": "stdout",
     "output_type": "stream",
     "text": [
      "False\n",
      "True\n",
      "False\n",
      "False\n",
      "True\n"
     ]
    }
   ],
   "source": [
    "A = 4\n",
    "B = \"Text\"\n",
    "C = 4.1\n",
    "\n",
    "print(A == B) #Si A y B son equivalentes\n",
    "print(A != C) #Si A y C NO son equivalentes\n",
    "print(A> C) #Si A es mayor que C\n",
    "print(C <= A) #Si C es menor o igual que A\n",
    "print(B!= C) #Si B NO es equivalente a C"
   ]
  },
  {
   "cell_type": "markdown",
   "metadata": {
    "id": "fiFGLghX-F19"
   },
   "source": [
    "![ejercicio.png](./img/ejercicio.png)\n",
    "\n",
    "## Ejercicio 2\n",
    "Crea un programa donde se recojan dos inputs del usuario, y el output del programa sea si esos inputs son iguales o no"
   ]
  },
  {
   "cell_type": "code",
   "execution_count": 10,
   "metadata": {
    "id": "JGmKJkGF-F1_"
   },
   "outputs": [
    {
     "name": "stdin",
     "output_type": "stream",
     "text": [
      "Hola, cuanto mides? 183\n"
     ]
    },
    {
     "name": "stdout",
     "output_type": "stream",
     "text": [
      "Has escrito: 183 centimetros\n"
     ]
    },
    {
     "name": "stdin",
     "output_type": "stream",
     "text": [
      "Muy bien!, podrías decirme cuanto mide tu hermana? 176\n"
     ]
    },
    {
     "name": "stdout",
     "output_type": "stream",
     "text": [
      "Has escrito: 176 centimetros\n",
      "Tu hermana y tu teneis alturas diferentes\n"
     ]
    }
   ],
   "source": [
    "var_altura_1 = int(input(\"Hola, cuanto mides?\"))\n",
    "print(\"Has escrito:\", var_altura_1, \"centimetros\")\n",
    "var_altura_2 = int(input(\"Muy bien!, podrías decirme cuanto mide tu hermana?\"))\n",
    "print(\"Has escrito:\", var_altura_2, \"centimetros\")\n",
    "\n",
    "if var_altura_1 == var_altura_2:\n",
    "    print(\"Tu hermana y tu teneis la misma altura\")\n",
    "\n",
    "else:\n",
    "    print(\"Tu hermana y tu teneis alturas diferentes\")"
   ]
  },
  {
   "cell_type": "markdown",
   "metadata": {
    "id": "62fh9153-F1_"
   },
   "source": [
    "![ejercicio.png](./img/ejercicio.png)\n",
    "\n",
    "## Ejercicio 3\n",
    "Mismo programa que en 2, pero en esta ocasión tienen que ser tres inputs y dos salidas. Una de las salidas que nos indique si todos son iguales, y la otra si al menos dos inputs sí que lo son"
   ]
  },
  {
   "cell_type": "code",
   "execution_count": 17,
   "metadata": {
    "id": "MNyJGpuU-F2B",
    "outputId": "7cb3d068-c8dd-4120-8adc-1d38014b30d9"
   },
   "outputs": [
    {
     "name": "stdin",
     "output_type": "stream",
     "text": [
      "Hola, de que equipo eres? Real Madrid\n"
     ]
    },
    {
     "name": "stdout",
     "output_type": "stream",
     "text": [
      "Has escrito: Real Madrid\n"
     ]
    },
    {
     "name": "stdin",
     "output_type": "stream",
     "text": [
      "Muy bien!, podrías decirme de que equipo es tu padre? Barcelona\n"
     ]
    },
    {
     "name": "stdout",
     "output_type": "stream",
     "text": [
      "Has escrito: Barcelona\n"
     ]
    },
    {
     "name": "stdin",
     "output_type": "stream",
     "text": [
      "Muy bien!, por útimo, podrías decirme de que equipo es tu madre? Atletico de Madrid\n"
     ]
    },
    {
     "name": "stdout",
     "output_type": "stream",
     "text": [
      "Has escrito: Atletico de Madrid\n",
      "Una lastima, nadie en la familia comparte equipo\n"
     ]
    }
   ],
   "source": [
    "var_equipo_1 = (input(\"Hola, de que equipo eres?\"))\n",
    "print(\"Has escrito:\", var_equipo_1)\n",
    "var_equipo_2 = (input(\"Muy bien!, podrías decirme de que equipo es tu padre?\"))\n",
    "print(\"Has escrito:\", var_equipo_2)\n",
    "var_equipo_3 = (input(\"Muy bien!, por útimo, podrías decirme de que equipo es tu madre?\"))\n",
    "print(\"Has escrito:\", var_equipo_3)\n",
    "\n",
    "if var_equipo_1 == var_equipo_2 == var_equipo_3:\n",
    "    print(\"Vaya, toda la familia es del mismo equipo\")\n",
    "\n",
    "elif var_equipo_1 == var_equipo_2 or var_equipo_1 == var_equipo_3 or var_equipo_2 == var_equipo_3:\n",
    "    print(\"Al menos dos personas de la familia comparten equipo\")\n",
    "else:\n",
    "    print(\"Una lastima, nadie en la familia comparte equipo\")"
   ]
  },
  {
   "cell_type": "markdown",
   "metadata": {
    "id": "_RPy-l_a-F2C"
   },
   "source": [
    "![ejercicio.png](./img/ejercicio.png)\n",
    "\n",
    "## Ejercicio 4\n",
    "Razona sin ejecutar código el output que obtendremos de las siguientes sentencias\n",
    "1. True and True and False\n",
    "2. not ((True or False) and (True or False))\n",
    "3. (False or False or False or True) and False\n",
    "4. not False and True and not True"
   ]
  },
  {
   "cell_type": "markdown",
   "metadata": {
    "id": "ROWF6cnd-F2C"
   },
   "source": [
    "1. False\n",
    "2. False\n",
    "3. False\n",
    "4. False"
   ]
  }
 ],
 "metadata": {
  "colab": {
   "provenance": []
  },
  "kernelspec": {
   "display_name": "Python 3 (ipykernel)",
   "language": "python",
   "name": "python3"
  },
  "language_info": {
   "codemirror_mode": {
    "name": "ipython",
    "version": 3
   },
   "file_extension": ".py",
   "mimetype": "text/x-python",
   "name": "python",
   "nbconvert_exporter": "python",
   "pygments_lexer": "ipython3",
   "version": "3.13.7"
  }
 },
 "nbformat": 4,
 "nbformat_minor": 4
}
