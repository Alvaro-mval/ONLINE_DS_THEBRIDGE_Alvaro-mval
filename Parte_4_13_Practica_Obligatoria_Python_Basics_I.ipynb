{
 "cells": [
  {
   "cell_type": "markdown",
   "metadata": {
    "id": "BNCAebJANPxq"
   },
   "source": [
    "![TheBridge_logo_RGB_color.jpg](attachment:TheBridge_logo_RGB_color.jpg)"
   ]
  },
  {
   "cell_type": "markdown",
   "metadata": {
    "id": "A9eDZvZaNPxs"
   },
   "source": [
    "![imagen](./img/ejercicios.png)"
   ]
  },
  {
   "cell_type": "markdown",
   "metadata": {
    "id": "59zPhBxXNPxs"
   },
   "source": [
    "## PRACTICA OBLIGATORIA: PYTHON"
   ]
  },
  {
   "cell_type": "markdown",
   "metadata": {
    "id": "mv2kb1GMNPxs"
   },
   "source": [
    "* La práctica obligatoria de esta unidad consiste en dos ejercicios de programación libre a completar.   \n",
    "* Recuerda que debes subirla a tu repositorio personal antes de la sesión en vivo para que puntúe adecuadamente.  \n",
    "* Recuerda también que no es necesario que esté perfecta, sólo es necesario que se vea el esfuerzo.\n",
    "* Esta práctica se resolverá en la sesión en vivo correspondiente y la solución se publicará en el repo del curso."
   ]
  },
  {
   "cell_type": "markdown",
   "metadata": {
    "id": "Kl9JzST2NPxt"
   },
   "source": [
    "![ejercicio.png](./img/ejercicio.png)\n",
    "## PARTE I\n",
    "\n",
    "En este ejercicio debes simular un chatbot al que le haremos pedidos de pizzas.\n",
    "\n",
    "1. El chatbot tiene que saludar con un: \"Buenas tardes, bienvenido al servicio de pedido online, el precio de nuestra pizzas es de 8,95 para la familiar o de 9,90 para la mediana ¿Cuántas pizzas  familiares desea?\"\n",
    "2. El ususario tiene que introducir un número de pizzas en una variable llamada 'pizz_familiar'\n",
    "3. El chatbot debe responder: \"Estupendo, ¿cuántas pizzas medianas desea?\" y guardar el número de pizzas medianas en otra variable 'pizz_mediana'\n",
    "4. Además debe responder del chatbot: \"Estupendo, se están preparando 'pizz' pizzas familiares y 'pizz_mediana' pizzas medianas. Digame su dirección\"\n",
    "5. El ususario tiene que introducir una direccion en formato String en otra variable llamada 'direcc'\n",
    "6. El programa debe calcular el monto total\n",
    "7. Respuesta final del chatbot: \"Le mandaremos las '(número total de pizzas)' pizzas a la dirección 'direcc'. Serán <precio total a pagar en euros>. Muchas gracias por su pedido.\"\n",
    "         \n"
   ]
  },
  {
   "cell_type": "code",
   "execution_count": 1,
   "metadata": {
    "id": "qkKibyt-NPxt"
   },
   "outputs": [
    {
     "name": "stdin",
     "output_type": "stream",
     "text": [
      "Buenas tardes, bienvenido al servicio de pedido online, el precio de nuestra pizzas es de 8,95 para la familiar o de 9,90 para la mediana ¿Cuántas pizzas familiares desea? 3\n"
     ]
    },
    {
     "name": "stdout",
     "output_type": "stream",
     "text": [
      "Has escrito: 3 pizzas familiares\n"
     ]
    },
    {
     "name": "stdin",
     "output_type": "stream",
     "text": [
      "Estupendo, ¿cuántas pizzas medianas desea? 2\n"
     ]
    },
    {
     "name": "stdout",
     "output_type": "stream",
     "text": [
      "Has escrito: 2 pizzas medianas\n"
     ]
    },
    {
     "name": "stdin",
     "output_type": "stream",
     "text": [
      "Estupendo, se están preparando 3 pizzas familiares y 2 pizzas medianas. Dígame su dirección:  Calle Alcazar, 14\n"
     ]
    },
    {
     "name": "stdout",
     "output_type": "stream",
     "text": [
      "Has escrito: Calle Alcazar, 14 perfecto!, estamos calculando el coste\n",
      "Le mandaremos las  5  pizzas a la dirección  Calle Alcazar, 14 Serán  46.65 €. Muchas gracias por su pedido.\n"
     ]
    }
   ],
   "source": [
    "pizz_familiar = int(input(\"Buenas tardes, bienvenido al servicio de pedido online, el precio de nuestra pizzas es de 8,95 para la familiar o de 9,90 para la mediana ¿Cuántas pizzas familiares desea?\"))\n",
    "print(\"Has escrito:\", pizz_familiar, \"pizzas familiares\")\n",
    "pizz_mediana = int(input(\"Estupendo, ¿cuántas pizzas medianas desea?\"))\n",
    "print(\"Has escrito:\", pizz_mediana, \"pizzas medianas\")\n",
    "\n",
    "mensaje = f\"Estupendo, se están preparando {pizz_familiar} pizzas familiares y {pizz_mediana} pizzas medianas. Dígame su dirección: \"\n",
    "direcc = input(mensaje)\n",
    "print(\"Has escrito:\", direcc, \"perfecto!, estamos calculando el coste\")\n",
    "\n",
    "precio = (8.95 * pizz_familiar) + (9.9 * pizz_mediana)\n",
    "num_pizz = pizz_familiar + pizz_mediana\n",
    "print(\"Le mandaremos las \", num_pizz ,\" pizzas a la dirección \", direcc ,\"Serán \", precio,\"€. Muchas gracias por su pedido.\")"
   ]
  },
  {
   "cell_type": "markdown",
   "metadata": {
    "id": "f0oqoGDGNPxt"
   },
   "source": [
    "![ejercicio.png](./img/ejercicio.png)\n",
    "## Parte II\n",
    "\n",
    "Crea un programa que realice las siguientes acciones:\n",
    "\n",
    "1. Solicite al usuario que introduzca 3 números enteros separados por comas (por ejemplo: 1,2,3).\n",
    "2. Convierta esa entrada en una lista de números enteros.\n",
    "3. Utilizando funciones built-in, determine el número máximo, el número mínimo y la suma total de los números introducidos.\n",
    "4. Determine la verdad o falsedad de la siguiente afirmación: \"El número máximo menos el número mínimo es igual a la suma total dividida por 5\".\n",
    "5. Muestre los resultados utilizando print."
   ]
  },
  {
   "cell_type": "code",
   "execution_count": 3,
   "metadata": {
    "id": "rAlpWiQ9NPxt"
   },
   "outputs": [
    {
     "name": "stdin",
     "output_type": "stream",
     "text": [
      "Buenas tardes, podría introducir 3 numeros enteros separados por comas 1,2,3\n"
     ]
    },
    {
     "name": "stdout",
     "output_type": "stream",
     "text": [
      "Has escrito: 1,2,3 , muchas gracias\n",
      "[1, 2, 3]\n",
      "3\n",
      "1\n",
      "6\n",
      "La afirmación es Falsa\n"
     ]
    }
   ],
   "source": [
    "numeros = ((input(\"Buenas tardes, podría introducir 3 numeros enteros separados por comas\")))  #Solicite al usuario que introduzca 3 números enteros separados por comas (por ejemplo: 1,2,3).\n",
    "print(\"Has escrito:\", numeros, \", muchas gracias\")\n",
    "\n",
    "lista_int = list(map(int, numeros.split(\",\"))) #Convierta esa entrada en una lista de números enteros.\n",
    "print(lista_int)\n",
    "\n",
    "mayor = max(lista_int) #Utilizando funciones built-in, determine el número máximo,  \n",
    "print(mayor)\n",
    "\n",
    "menor =min(lista_int) #el número mínimo\n",
    "print(menor)\n",
    "\n",
    "suma =sum(lista_int) #y la suma total de los números introducidos.\n",
    "print(suma)\n",
    "\n",
    "if mayor - menor == suma/5 :    #Determine la verdad o falsedad de la siguiente afirmación: \"El número máximo menos el número mínimo es igual a la suma total dividida por 5\".\n",
    "    print(\"La afirmación es Verdadera\")\n",
    "else:\n",
    "    print(\"La afirmación es Falsa\")"
   ]
  },
  {
   "cell_type": "code",
   "execution_count": null,
   "metadata": {},
   "outputs": [],
   "source": []
  }
 ],
 "metadata": {
  "colab": {
   "provenance": []
  },
  "kernelspec": {
   "display_name": "Python 3 (ipykernel)",
   "language": "python",
   "name": "python3"
  },
  "language_info": {
   "codemirror_mode": {
    "name": "ipython",
    "version": 3
   },
   "file_extension": ".py",
   "mimetype": "text/x-python",
   "name": "python",
   "nbconvert_exporter": "python",
   "pygments_lexer": "ipython3",
   "version": "3.13.7"
  }
 },
 "nbformat": 4,
 "nbformat_minor": 4
}
