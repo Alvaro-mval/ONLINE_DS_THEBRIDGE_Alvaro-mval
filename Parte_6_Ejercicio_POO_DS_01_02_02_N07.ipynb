{
 "cells": [
  {
   "cell_type": "markdown",
   "metadata": {
    "id": "vigJnuAMSU4x"
   },
   "source": [
    "![TheBridge_logo_RGB_color.jpg](attachment:TheBridge_logo_RGB_color.jpg)"
   ]
  },
  {
   "cell_type": "markdown",
   "metadata": {
    "id": "2xmnwM17SU4y"
   },
   "source": [
    "![ejercicios.png](attachment:ejercicios.png)"
   ]
  },
  {
   "cell_type": "markdown",
   "metadata": {
    "id": "liorA-1ZSU4y"
   },
   "source": [
    "# Ejercicios Clases y Objetos"
   ]
  },
  {
   "cell_type": "markdown",
   "metadata": {
    "id": "5xXUz5l9SU4z"
   },
   "source": [
    "## Ejercicio 1\n",
    "Somos una empresa que tiene varias tiendas de electrodomesticos. Necesitamos un programa para manejar las tiendas, ver las ventas que han tenido, cuántos empleados hay, etc... Para ello vamos a modelizar la tienda en una clase, que tendrá las siguientes características:\n",
    "* Nombre clase: \"Tienda\"\n",
    "* Atributos comunes:\n",
    "    * Tipo: \"Electrodomésticos\"\n",
    "    * Abierta: True\n",
    "* Atributos propios de cada tienda:\n",
    "    * Nombre - String\n",
    "    * Dirección - String\n",
    "    * Número de empleados - int\n",
    "    * Ventas ultimos 3 meses - Lista de 3 numeros\n",
    "* Método para calcular las ventas de todos los meses, que devuelva un numero con todas las ventas.\n",
    "* Método que calcula la media de ventas de los ultimos meses, por empleado\n",
    "* Método que devuelve en un string el nombre de la tienda, junto con su dirección.\n",
    "* Método que obtiene las ventas del último mes.\n",
    "* Método para dar una proyección de las ventas en caso de haber invertido X dinero en marketing en esa tienda. Siendo X el parámetro de entrada. Si X es menor de 1000, las ventas de los ultimos 3 meses hubiesen sido de (1.2 x ventas), si es mayor o igual de 1000, las ventas hubiesen sido de (1.5 x venta). El método reescribe el atributo de ventas en los últimos 3 meses, y además devuelve las ventas con el aumento.\n",
    "\n",
    "Se pide:\n",
    "1. Implementar la clase \"Tienda\"\n",
    "2. Crear tres tiendas con datos inventados\n",
    "3. Comprueba en al menos una de ellas, todo lo implementado en la clase tienda (sus atributos, media de ventas, ventas/empleado...)\n",
    "3. Calcular las ventas del último mes de todas las tiendas. Para ello usa el bucle `for`\n",
    "4. Imprime por pantalla los nombres de las tiendas cuya dirección lleve el string \"Avenida\"\n",
    "5. Seguro que ya has hecho este apartado... Documenta la clase :)"
   ]
  },
  {
   "cell_type": "code",
   "execution_count": 14,
   "metadata": {
    "id": "5cLQcLxfSU4z"
   },
   "outputs": [],
   "source": [
    "class Tienda:\n",
    "    tipo = \"Electrodomésticos\" \n",
    "    abierta = True\n",
    "\n",
    "    def __init__(self, nombre, direccion, numero_empleados, ventas_tres_meses, inversion): #creacion clase Tienda\n",
    "        self.nombre = nombre\n",
    "        self.direccion = direccion\n",
    "        self.numero_empleados = numero_empleados\n",
    "        self.ventas_tres_meses = ventas_tres_meses\n",
    "        self.inversion = inversion\n",
    "\n",
    "    def caracteristicas(self): #mensaje de caracteristicas de la tienda y cambio de tipo de variables\n",
    "        return \"Tienda de \" + self.tipo + \", se llama: \" + str(self.nombre) + \\\n",
    "           \", situada en: \" + str(self.direccion) + \"\\n\" + \\\n",
    "           \"La tienda tiene \" + str(self.numero_empleados) + \" empleados y las ventas de los últimos 3 meses son de: \" + str(sum(self.ventas_tres_meses)) + \" €.\"\n",
    "\n",
    "    def ventas_totales(self):  #Método para calcular las ventas de todos los meses, que devuelva un numero con todas las ventas.\n",
    "        return sum(self.ventas_tres_meses)\n",
    "\n",
    "    def ventas_por_empleado(self):  #Método que calcula la media de ventas de los ultimos meses, por empleado\n",
    "        return sum(self.ventas_tres_meses) / self.numero_empleados\n",
    "\n",
    "    def nombre_direccion(self): #Método que devuelve en un string el nombre de la tienda, junto con su dirección.\n",
    "        return \"La tienda se llama: \" + str(self.nombre) + \", situada en: \" + str(self.direccion)\n",
    "\n",
    "    def ventas_ultimo_mes(self):  #Método que obtiene las ventas del último mes.\n",
    "         return (self.ventas_tres_meses[2])\n",
    "\n",
    "    def proyeccion(self): #metodo para proyección en caso de inversión\n",
    "        if self.inversion < 1000:\n",
    "            return (sum(self.ventas_tres_meses)) * 1.2\n",
    "\n",
    "        else:\n",
    "            return (sum(self.ventas_tres_meses)) * 1.5"
   ]
  },
  {
   "cell_type": "code",
   "execution_count": 15,
   "metadata": {},
   "outputs": [
    {
     "name": "stdout",
     "output_type": "stream",
     "text": [
      "Las caracteristicas de la tienda son las siguientes: Tienda de Electrodomésticos, se llama: MediaMark, situada en: Plaza de Castilla, 26\n",
      "La tienda tiene 5 empleados y las ventas de los últimos 3 meses son de: 63000 €.\n",
      "\n",
      "Las ventas totales de los últimos 3 meses son de:63000 €.\n",
      "\n",
      "Las ventas totales de los últimos 3 meses por número de empleado son de:12600.0 €.\n",
      "\n",
      "La tienda se llama: MediaMark, situada en: Plaza de Castilla, 26\n",
      "\n",
      "Las ventas totales del último mes son de:18000 €.\n",
      "\n",
      "En caso de invertir 1500€ en nuestra tienda, las ganancias hubieran sido de:\n",
      "94500.0 € en vez de los 63000 € actuales.\n",
      "\n"
     ]
    }
   ],
   "source": [
    "tienda1 = Tienda(\"MediaMark\", \"Plaza de Castilla, 26\", 5, [27000, 18000, 18000], 1500) #Crear tres tiendas con datos inventados\n",
    "tienda2 = Tienda(\"Neveras Medina\", \"Avenida de la Libertad, 105\", 22, [107000, 85000, 139000], 600)\n",
    "tienda3 = Tienda(\"Microondas&hornos Garrido\" , \"Calle Castillo\", 2, [3500, 2250, 4100], 50)\n",
    "\n",
    "print(\"Las caracteristicas de la tienda son las siguientes: \" + tienda1.caracteristicas()) #Comprueba en al menos una de ellas, todo lo implementado en la clase tienda (sus atributos, media de ventas, ventas/empleado...)\n",
    "print(\"\")\n",
    "print(\"Las ventas totales de los últimos 3 meses son de:\" + str(tienda1.ventas_totales()) + \" €.\")\n",
    "print(\"\")\n",
    "print(\"Las ventas totales de los últimos 3 meses por número de empleado son de:\" + str(tienda1.ventas_por_empleado()) + \" €.\")\n",
    "print(\"\")\n",
    "print(tienda1.nombre_direccion())\n",
    "print(\"\")\n",
    "print(\"Las ventas totales del último mes son de:\" + str(tienda1.ventas_ultimo_mes()) + \" €.\")\n",
    "print(\"\")\n",
    "print(\"En caso de invertir \" + str(tienda1.inversion) + \"€ en nuestra tienda, las ganancias hubieran sido de:\" + \"\\n\"\n",
    "      + str(tienda1.proyeccion()) + \" € en vez de los \" + str(tienda1.ventas_totales()) + \" € actuales.\")\n",
    "print(\"\")\n",
    "\n",
    "#Imprime por pantalla los nombres de las tiendas cuya dirección lleve el string \"Avenida\"\n"
   ]
  },
  {
   "cell_type": "code",
   "execution_count": 16,
   "metadata": {},
   "outputs": [],
   "source": [
    "def ventas_ultimo_mes_tiendas(*tiendas): #Calcular las ventas del último mes de todas las tiendas. Para ello usa el bucle for\n",
    "        for tienda in tiendas:\n",
    "            print(\"Tienda: \" + tienda.nombre)\n",
    "            print(\"Ventas del último mes: \" + str(tienda.ventas_tres_meses[2]) + \" €\")\n",
    "            print(\"****\")"
   ]
  },
  {
   "cell_type": "code",
   "execution_count": 17,
   "metadata": {
    "scrolled": true
   },
   "outputs": [
    {
     "name": "stdout",
     "output_type": "stream",
     "text": [
      "Tienda: MediaMark\n",
      "Ventas del último mes: 18000 €\n",
      "****\n",
      "Tienda: Neveras Medina\n",
      "Ventas del último mes: 139000 €\n",
      "****\n",
      "Tienda: Microondas&hornos Garrido\n",
      "Ventas del último mes: 4100 €\n",
      "****\n"
     ]
    }
   ],
   "source": [
    "ventas_ultimo_mes_tiendas(tienda1,tienda2,tienda3) #Calcular las ventas del último mes de todas las tiendas. Para ello usa el bucle for"
   ]
  },
  {
   "cell_type": "code",
   "execution_count": 25,
   "metadata": {},
   "outputs": [],
   "source": [
    "def busqueda_avenida(*tiendas): #Imprime por pantalla los nombres de las tiendas cuya dirección lleve el string \"Avenida\"\n",
    "        for tienda in tiendas:\n",
    "            if \"avenida\" in tienda.direccion.lower():\n",
    "                print(\"Tienda: \" + tienda.nombre)"
   ]
  },
  {
   "cell_type": "code",
   "execution_count": 26,
   "metadata": {},
   "outputs": [
    {
     "name": "stdout",
     "output_type": "stream",
     "text": [
      "Tienda: Neveras Medina\n"
     ]
    }
   ],
   "source": [
    "busqueda_avenida(tienda1,tienda2,tienda3)"
   ]
  },
  {
   "cell_type": "markdown",
   "metadata": {
    "id": "WEBq7EpsSU40"
   },
   "source": [
    "## Ejercicio 2\n",
    "En este ejercicio vamos a implementar una clase *Perro* en Python. La clase tiene las siguientes características:\n",
    "* Cosas que sabemos seguro que tiene un perro\n",
    "    * Tiene 4 patas\n",
    "    * 2 orejas\n",
    "    * 2 ojos\n",
    "    * Una velocidad de 0. Por defecto, el perro está parado\n",
    "* Cuando se inicialice:\n",
    "    * El perro será de una determinada raza\n",
    "    * Por defecto tendrá pelo \"Marrón\", a no ser que se diga lo contrario.\n",
    "    * Por defecto no tendrá dueño, a no ser que se diga lo contrario.\n",
    "    \n",
    "* Dispondrá también de un método llamado andar, que tiene un argumento de entrada (aumento_velocidad). Este valor se le sumará a la velocidad que ya llevaba el perro.\n",
    "* Necesita otro método (parar), donde pondremos la velocidad a 0.\n",
    "* Otro método llamado \"ladrar\", que tendrá un argumento de entrada, y la salida será el siguiente string: \"GUAU!\" + el argumento de entrada.\n",
    "\n",
    "\n",
    "Se pide:\n",
    "* Implementa la clase *Perro*\n",
    "* Crea un objeto de tipo *Perro*, sin dueño\n",
    "* Comprueba que están bien todos sus atributos\n",
    "* Prueba que ande, y comprueba su velocidad\n",
    "* Páralo\n",
    "* Documenta la clase *Perro*"
   ]
  },
  {
   "cell_type": "code",
   "execution_count": 56,
   "metadata": {
    "id": "DpEWvbwGSU40"
   },
   "outputs": [],
   "source": [
    "class Perro: #Implementa la clase Perro\n",
    "    patas = 4 \n",
    "    orejas = 2\n",
    "    ojos = 2\n",
    "    velocidad = 0\n",
    "    \n",
    "\n",
    "    def __init__(self, raza, pelo = \"Marron\", dueño = False): #creacion clase Perro\n",
    "        self.raza = raza\n",
    "        self.pelo = pelo\n",
    "        self.dueño = dueño\n",
    "\n",
    "    def atributos(self): #Comprueba que están bien todos sus atributos\n",
    "        return \"El perro tiene \" + str(self.patas) + \" patas, \" + str(self.orejas) + \" orejas, \" + str(self.ojos) + \" ojos y el pelo color \" + self.pelo + \".\" \"\\n\" + \\\n",
    "        \"Es de la raza \" + self.raza + \". Tiene una velocidad de \" + str(self.velocidad) + \"km/h, y...¿tiene dueño?: \" + str(self.dueño)\n",
    "    \n",
    "    def andar(self, aumento_velocidad):  #Dispondrá también de un método llamado andar, que tiene un argumento de entrada (aumento_velocidad). Este valor se le sumará a la velocidad que ya llevaba el perro.\n",
    "        self.velocidad = self.velocidad + aumento_velocidad\n",
    "        return self.velocidad\n",
    "\n",
    "    def parar(self):  #Necesita otro método (parar), donde pondremos la velocidad a 0.\n",
    "        self.velocidad = 0\n",
    "        return self.velocidad\n",
    "\n",
    "    def ladrar(self,ladrido):  #Otro método llamado \"ladrar\", que tendrá un argumento de entrada, y la salida será el siguiente string: \"GUAU!\" + el argumento de entrada.\n",
    "        return \"GUAU!\" + ladrido"
   ]
  },
  {
   "cell_type": "code",
   "execution_count": 57,
   "metadata": {},
   "outputs": [
    {
     "name": "stdout",
     "output_type": "stream",
     "text": [
      "Los atributos del perro son las siguientes: El perro tiene 4 patas, 2 orejas, 2 ojos y el pelo color Marron.\n",
      "Es de la raza caniche. Tiene una velocidad de 0km/h, y...¿tiene dueño?: False\n",
      "\n"
     ]
    }
   ],
   "source": [
    "perro_1 = Perro(\"caniche\") #Crea un objeto de tipo Perro, sin dueño\n",
    "\n",
    "print(\"Los atributos del perro son las siguientes: \" + perro_1.atributos()) #Comprueba que están bien todos sus atributos\n",
    "print(\"\")"
   ]
  },
  {
   "cell_type": "code",
   "execution_count": 58,
   "metadata": {},
   "outputs": [
    {
     "name": "stdout",
     "output_type": "stream",
     "text": [
      "5\n"
     ]
    }
   ],
   "source": [
    "print(perro_1.andar(5)) #Prueba que ande, y comprueba su velocidad"
   ]
  },
  {
   "cell_type": "code",
   "execution_count": 59,
   "metadata": {},
   "outputs": [
    {
     "name": "stdout",
     "output_type": "stream",
     "text": [
      "0\n"
     ]
    }
   ],
   "source": [
    "print(perro_1.parar()) #Páralo"
   ]
  },
  {
   "cell_type": "code",
   "execution_count": 60,
   "metadata": {},
   "outputs": [
    {
     "name": "stdout",
     "output_type": "stream",
     "text": [
      "GUAU!que agustito estoy\n"
     ]
    }
   ],
   "source": [
    "print(perro_1.ladrar(\"que agustito estoy\"))"
   ]
  },
  {
   "cell_type": "code",
   "execution_count": null,
   "metadata": {},
   "outputs": [],
   "source": []
  }
 ],
 "metadata": {
  "colab": {
   "provenance": []
  },
  "kernelspec": {
   "display_name": "Python 3 (ipykernel)",
   "language": "python",
   "name": "python3"
  },
  "language_info": {
   "codemirror_mode": {
    "name": "ipython",
    "version": 3
   },
   "file_extension": ".py",
   "mimetype": "text/x-python",
   "name": "python",
   "nbconvert_exporter": "python",
   "pygments_lexer": "ipython3",
   "version": "3.13.7"
  }
 },
 "nbformat": 4,
 "nbformat_minor": 4
}
