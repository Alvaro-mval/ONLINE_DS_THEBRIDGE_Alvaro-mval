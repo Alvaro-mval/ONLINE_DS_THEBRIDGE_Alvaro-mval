{
 "cells": [
  {
   "cell_type": "markdown",
   "metadata": {},
   "source": [
    "![imagen](./img/ejercicios.png)"
   ]
  },
  {
   "cell_type": "markdown",
   "metadata": {},
   "source": [
    "## Ejercicio 1\n",
    "1. Elimina todos los VW de la siguiente lista. Crea una lista nueva para ello.\n",
    "2. Hazlo de otra manera. Crea una lista nueva, y ve añadiendo todos los que no sean VW\n",
    "3. En vez de `for`, usa un bucle `while`\n",
    "> ejer_1 = [\"VW\", \"Audi\", \"Renault\", \"VW\", \"BMW\"]"
   ]
  },
  {
   "cell_type": "code",
   "execution_count": 12,
   "metadata": {},
   "outputs": [
    {
     "name": "stdout",
     "output_type": "stream",
     "text": [
      "['Audi', 'Renault', 'BMW']\n"
     ]
    }
   ],
   "source": [
    "ejer_1 = [\"VW\", \"Audi\", \"Renault\", \"VW\", \"BMW\"]\n",
    "ejer_2 =[]\n",
    "for i in ejer_1:\n",
    "    if i != \"VW\":\n",
    "        ejer_2.append(i)\n",
    "print(ejer_2)"
   ]
  },
  {
   "cell_type": "code",
   "execution_count": 13,
   "metadata": {},
   "outputs": [
    {
     "name": "stdout",
     "output_type": "stream",
     "text": [
      "['Audi', 'Renault', 'BMW']\n"
     ]
    }
   ],
   "source": [
    "ejer_3 =[]\n",
    "ejer_3.append(\"Audi\")\n",
    "ejer_3.append(\"Renault\")\n",
    "ejer_3.append(\"BMW\")\n",
    "print(ejer_3)"
   ]
  },
  {
   "cell_type": "code",
   "execution_count": 29,
   "metadata": {},
   "outputs": [
    {
     "name": "stdout",
     "output_type": "stream",
     "text": [
      "['Audi', 'Renault', 'BMW']\n"
     ]
    }
   ],
   "source": [
    "ejer_1 = [\"VW\", \"Audi\", \"Renault\", \"VW\", \"BMW\"]\n",
    "ejer_2 =[]\n",
    "i=0\n",
    "while i < len(ejer_1):\n",
    "    if ejer_1[i] != \"VW\":\n",
    "        ejer_2.append(ejer_1[i])\n",
    "    i = i + 1\n",
    "print(ejer_2)"
   ]
  },
  {
   "cell_type": "markdown",
   "metadata": {},
   "source": [
    "## Ejercicio 2\n",
    "Imprime por pantalla la siguiente secuencia: 10, 9, 8.... -8, -9, -10"
   ]
  },
  {
   "cell_type": "code",
   "execution_count": 57,
   "metadata": {},
   "outputs": [
    {
     "name": "stdout",
     "output_type": "stream",
     "text": [
      "10\n",
      "9\n",
      "8\n",
      "7\n",
      "6\n",
      "5\n",
      "4\n",
      "3\n",
      "2\n",
      "1\n",
      "0\n",
      "-1\n",
      "-2\n",
      "-3\n",
      "-4\n",
      "-5\n",
      "-6\n",
      "-7\n",
      "-8\n",
      "-9\n",
      "-10\n"
     ]
    }
   ],
   "source": [
    "i = 10\n",
    "print(i)\n",
    "while i > -10:\n",
    "    i= i -1\n",
    "    print(i)\n"
   ]
  },
  {
   "cell_type": "markdown",
   "metadata": {},
   "source": [
    "## Ejercicio 3\n",
    "1. Escribe un programa que vaya pidiendo numeros al usuario. Cuando el usuario introduzca el 0, el programa tiene que imprimir por pantalla el sumatorio de todos los numeros positivos introducidos\n",
    "2. Además de la suma, queremos que imprima también una lista con todos los números."
   ]
  },
  {
   "cell_type": "code",
   "execution_count": 63,
   "metadata": {},
   "outputs": [
    {
     "name": "stdout",
     "output_type": "stream",
     "text": [
      "2.0\n",
      "3.0\n",
      "4.0\n",
      "El sumatorio de todos los enteros positivos fue de:  9.0\n"
     ]
    }
   ],
   "source": [
    "valor = -1\n",
    "lista = []\n",
    "while valor != 0:\n",
    "    valor =float(input(\"Hola, dime un número, por favor\").replace(\",\",\".\"))\n",
    "    if valor > 0:\n",
    "        lista.append(valor)\n",
    "        print(valor)\n",
    "print(\"El sumatorio de todos los enteros positivos fue de: \",sum(lista))"
   ]
  },
  {
   "cell_type": "code",
   "execution_count": 64,
   "metadata": {},
   "outputs": [
    {
     "name": "stdout",
     "output_type": "stream",
     "text": [
      "Los numeros elegidos son:  [2.0, 5.0, 7.0, 2.0]\n"
     ]
    }
   ],
   "source": [
    "valor = -1\n",
    "lista = []\n",
    "while valor != 0:\n",
    "    valor =float(input(\"Hola, dime un número, por favor\").replace(\",\",\".\"))\n",
    "    if valor > 0:\n",
    "        lista.append(valor)\n",
    "print(\"Los numeros elegidos son: \",lista)"
   ]
  },
  {
   "cell_type": "markdown",
   "metadata": {},
   "source": [
    "## Ejercicio 4\n",
    "Escribir un programa que vaya pidiendo la cantidad de compras de un cliente. El programa tiene que pedir cantidades hasta que se ingresa un 0. Igualmente cuando una de las cantiaddes introducida es negativa, hay que mandar un mensaje de que \"la cantidad es negativa, por favor introducir numeros positivos\""
   ]
  },
  {
   "cell_type": "code",
   "execution_count": 70,
   "metadata": {},
   "outputs": [
    {
     "name": "stdout",
     "output_type": "stream",
     "text": [
      "Total de compras: 4\n"
     ]
    }
   ],
   "source": [
    "numero = -1\n",
    "n_veces = 0\n",
    "while numero != 0:\n",
    "    numero =float(input(\"Hola, dime la cantidad de compras, por favor\").replace(\",\",\".\"))\n",
    "    if numero < 0:\n",
    "        numero =float(input(\"Numero negativo, por favor, introduzca un numero positivo:\").replace(\",\",\".\"))\n",
    "    elif numero > 0:\n",
    "        n_veces = n_veces + 1\n",
    "        numero =float(input(\"Hola, dime la cantidad de compras, por favor\").replace(\",\",\".\"))\n",
    "    n_veces = n_veces + 1   \n",
    "print(\"Total de compras:\", n_veces )"
   ]
  },
  {
   "cell_type": "markdown",
   "metadata": {},
   "source": [
    "## Ejercicio 5\n",
    "Imprime por pantalla la palabra \"Python\", pero empezando con la última letra."
   ]
  },
  {
   "cell_type": "code",
   "execution_count": 83,
   "metadata": {},
   "outputs": [
    {
     "name": "stdout",
     "output_type": "stream",
     "text": [
      "n\n",
      "o\n",
      "h\n",
      "t\n",
      "y\n",
      "P\n"
     ]
    }
   ],
   "source": [
    "palabra = \"Python\"\n",
    "\n",
    "\n",
    "\n",
    "for i in palabra[-1::-1]: #imprime desde indice final, al indice [0](no se puede poner 0 porque no es inclusivo el rango) recorriendo hacia atras (-1)\n",
    "    print(i)\n",
    "\n"
   ]
  },
  {
   "cell_type": "markdown",
   "metadata": {},
   "source": [
    "## Ejercicio 6\n",
    "Escribe un programa que calcule la cantidad de veces que está la letra \"m\" o \"M\" en la frase:\n",
    "> \"En un lugar de La Mancha, de cuyo nombre no quiero acordarme\""
   ]
  },
  {
   "cell_type": "code",
   "execution_count": null,
   "metadata": {},
   "outputs": [
    {
     "name": "stdout",
     "output_type": "stream",
     "text": [
      "Numero de veces que aparece m:  2\n"
     ]
    }
   ],
   "source": [
    "frase = \"En un lugar de La Mancha, de cuyo nombre no quiero acordarme\"\n",
    "n = 0\n",
    "for i in frase:\n",
    "    if i == \"m\" or i ==\"M\":\n",
    "        n = n + 1\n",
    "print(\"Numero de veces que aparece m: \", n)\n"
   ]
  },
  {
   "cell_type": "markdown",
   "metadata": {},
   "source": [
    "## Ejercicio 7\n",
    "Crea un programa que simule la siguiente pirámide. Para ello, el programa tiene que pedirle al usuario un caracter cualquiera. El número de filas es fijo, 5. Vas a necesitar usar dos bucles anidados.\n",
    "\n",
    "W W W W W \n",
    "\n",
    "W W W W \n",
    "\n",
    "W W W \n",
    "\n",
    "W W \n",
    "\n",
    "W \n",
    "\n",
    "\n"
   ]
  },
  {
   "cell_type": "code",
   "execution_count": 94,
   "metadata": {},
   "outputs": [
    {
     "name": "stdout",
     "output_type": "stream",
     "text": [
      "Muchas gracias! has dicho el caracter: A . Esta es tu pirámide.\n",
      "A A A A A A \n",
      "A A A A A A \n",
      "A A A A A A \n",
      "A A A A A A \n",
      "A A A A A A \n"
     ]
    }
   ],
   "source": [
    "caracter= input(\"Por favor, dime un caracter\")\n",
    "print(\"Muchas gracias! has dicho el caracter:\", caracter,\". Esta es tu pirámide.\") #Imprime la respuesta.\n",
    "var_caracter = (caracter * 5 )               #creas la variable a integrar en los bucles.\n",
    "\n",
    "for i in var_caracter:                              # i va de 5 a 1\n",
    "    print(i, end=\" \")                               # imprime el número actual (i)\n",
    "    k = var_caracter.replace(caracter, \"\", 1)       # calculamos el siguiente límite                 \n",
    "    for k in var_caracter:                          # bucle interno que baja desde k hasta 1\n",
    "        print(k, end=\" \")                           # imprime k en la misma línea\n",
    "    print()                                         # salto de línea al terminar cada fila\n"
   ]
  },
  {
   "cell_type": "markdown",
   "metadata": {},
   "source": [
    " ## Ejercicio 8\n",
    " Crea un programa que en función de un input numérico que inserte el usuario, imprima por pantalla la pirámide de ejemplo. Si el input es 6, tendrá 6 pisos, pero si introduce 10, la pirámide tendrá 10 pisos.\n",
    " \n",
    " 1 2 3 4 5 6\n",
    " \n",
    " 1 2 3 4 5\n",
    " \n",
    " 1 2 3 4\n",
    " \n",
    " 1 2 3\n",
    " \n",
    " 1 2\n",
    " \n",
    " 1"
   ]
  },
  {
   "cell_type": "code",
   "execution_count": 132,
   "metadata": {},
   "outputs": [
    {
     "name": "stdout",
     "output_type": "stream",
     "text": [
      "Muchas gracias! has dicho el número: 10 . Esta es tu pirámide.\n",
      "1 2 3 4 5 6 7 8 9 10 \n",
      "1 2 3 4 5 6 7 8 9 \n",
      "1 2 3 4 5 6 7 8 \n",
      "1 2 3 4 5 6 7 \n",
      "1 2 3 4 5 6 \n",
      "1 2 3 4 5 \n",
      "1 2 3 4 \n",
      "1 2 3 \n",
      "1 2 \n",
      "1 \n"
     ]
    }
   ],
   "source": [
    "numero= int(input(\"Por favor, dime un número\"))\n",
    "print(\"Muchas gracias! has dicho el número:\", numero,\". Esta es tu pirámide.\") #Imprime la respuesta.\n",
    "\n",
    "for i in range(numero, 0, -1):                                                                                                                            \n",
    "    for k in range(1, i+1 ,1):                       \n",
    "        print(k, end=\" \")                                                                         \n",
    "    print()           \n",
    "                                 "
   ]
  },
  {
   "cell_type": "markdown",
   "metadata": {},
   "source": [
    "## Ejercicio 9\n",
    "Replica el siguiente patrón"
   ]
  },
  {
   "cell_type": "raw",
   "metadata": {},
   "source": [
    "* \n",
    "* * \n",
    "* * * \n",
    "* * * * \n",
    "* * * * * \n",
    "* * * * \n",
    "* * * \n",
    "* * \n",
    "* "
   ]
  },
  {
   "cell_type": "code",
   "execution_count": 137,
   "metadata": {},
   "outputs": [
    {
     "name": "stdout",
     "output_type": "stream",
     "text": [
      "* \n",
      "* * \n",
      "* * * \n",
      "* * * * \n",
      "* * * * * \n",
      "* * * * * * \n",
      "* * * * * \n",
      "* * * * \n",
      "* * * \n",
      "* * \n",
      "* \n"
     ]
    }
   ],
   "source": [
    "numero_asteriscos = 6\n",
    "\n",
    "for i in range(1,numero_asteriscos,1):                                                                                                                            \n",
    "    for k in range(1, i+1 ,1):                       \n",
    "        print(\"*\", end=\" \")                                                                           \n",
    "    print()\n",
    "\n",
    "for i in range(numero_asteriscos, 0, -1):                                                                                                                            \n",
    "    for k in range(1, i+1 ,1):                       \n",
    "        print(\"*\", end=\" \")                                                                         \n",
    "    print() \n",
    "      "
   ]
  },
  {
   "cell_type": "markdown",
   "metadata": {},
   "source": [
    "## Ejercicio 10\n",
    "Imprime toda la secuencia de numeros del 1 al 10, excepto el 3, 4 y 9. Impleméntalo de dos maneras diferentes"
   ]
  },
  {
   "cell_type": "code",
   "execution_count": 151,
   "metadata": {},
   "outputs": [
    {
     "name": "stdout",
     "output_type": "stream",
     "text": [
      "1\n",
      "2\n",
      "5\n",
      "6\n",
      "7\n",
      "8\n",
      "10\n"
     ]
    }
   ],
   "source": [
    "for i in range(1,11,1):\n",
    "    if i == 3 or i == 4 or i == 9:\n",
    "        continue\n",
    "    print(i)\n",
    "\n"
   ]
  },
  {
   "cell_type": "markdown",
   "metadata": {},
   "source": [
    "## Ejercicio 11\n",
    "Suponiendo que siempre se cumple que las dos listas del ejercicio son iguales de tamaño, implementa un programa que calcule el ratio ingreso/gasto de cada elemento, y lo guarde en una nueva lista. Si hubiese algún problema con los datos, hay que almacenar un mensaje de error en la lista del resultado. Usa `try/except`\n",
    "> ingresos = [100, 200, 500, 100, 600]\n",
    ">\n",
    "> gastos = [50, 20, 70, 0, 25]"
   ]
  },
  {
   "cell_type": "code",
   "execution_count": null,
   "metadata": {},
   "outputs": [
    {
     "name": "stdout",
     "output_type": "stream",
     "text": [
      "El codigo tiene el siguiente error:  <class 'ZeroDivisionError'>\n",
      "Continuo con el programa\n"
     ]
    }
   ],
   "source": [
    "ingresos = [100,200,500,100,600]\n",
    "gastos = [50,20,70,0,25]\n",
    "try:\n",
    "    ratio = []\n",
    "    for i in range(len(ingresos)):\n",
    "        ratio.append(ingresos[i] / gastos[i])\n",
    "    print(ratio)\n",
    "except ZeroDivisionError: \n",
    "    print(\"El codigo tiene el siguiente error: \", ZeroDivisionError)\n",
    "\n",
    "print(\"Continuo con el programa\")\n"
   ]
  },
  {
   "cell_type": "markdown",
   "metadata": {},
   "source": [
    "## Ejercicio 12\n",
    "Muy parecido al anterior, aunque ahora tendremos que excepcionar más tipos de errores con estos nuevos datos. En este caso, almacena un mensaje diferente en la lista resultado, para cada error.\n",
    "\n",
    "> ingresos = [100, \"HHH\", 500, 100, 600, 900, 150]\n",
    ">\n",
    "> gastos = [50, 20, 70, 0, 25]"
   ]
  },
  {
   "cell_type": "code",
   "execution_count": 180,
   "metadata": {},
   "outputs": [
    {
     "name": "stdout",
     "output_type": "stream",
     "text": [
      "<class 'ZeroDivisionError'>\n",
      "<class 'TypeError'>\n",
      "[2.0, 10.0, <class 'ZeroDivisionError'>, 100.0, <class 'TypeError'>]\n"
     ]
    }
   ],
   "source": [
    "ingresos = [100, 200 , 500 , 100 , \"600\"]\n",
    "gastos =   [50  , 20  , 0  , 1   ,  30]\n",
    "\n",
    "ratio = []\n",
    "for i in range(len(ingresos)):  \n",
    "    try:\n",
    "        ratio.append(ingresos[i] / gastos[i])\n",
    "\n",
    "    except NameError:\n",
    "        ratio.append(NameError)\n",
    "        print(NameError)\n",
    "        \n",
    "    except ZeroDivisionError:\n",
    "        ratio.append(ZeroDivisionError)\n",
    "        print(ZeroDivisionError)\n",
    "        \n",
    "    except TypeError:\n",
    "        ratio.append(TypeError)\n",
    "        print(TypeError)\n",
    "        \n",
    "    except IndexError:\n",
    "        ratio.append(IndexError)\n",
    "        print(IndexError)\n",
    "print(ratio)\n"
   ]
  }
 ],
 "metadata": {
  "kernelspec": {
   "display_name": "Python 3",
   "language": "python",
   "name": "python3"
  },
  "language_info": {
   "codemirror_mode": {
    "name": "ipython",
    "version": 3
   },
   "file_extension": ".py",
   "mimetype": "text/x-python",
   "name": "python",
   "nbconvert_exporter": "python",
   "pygments_lexer": "ipython3",
   "version": "3.13.7"
  }
 },
 "nbformat": 4,
 "nbformat_minor": 4
}
