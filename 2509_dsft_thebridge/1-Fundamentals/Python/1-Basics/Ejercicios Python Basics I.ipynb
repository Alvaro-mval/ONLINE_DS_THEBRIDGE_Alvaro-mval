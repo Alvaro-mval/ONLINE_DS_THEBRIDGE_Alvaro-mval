{
 "cells": [
  {
   "cell_type": "markdown",
   "metadata": {},
   "source": [
    "![imagen](./img/ejercicios.png)"
   ]
  },
  {
   "cell_type": "markdown",
   "metadata": {},
   "source": [
    "# Ejercicios Python Basics I"
   ]
  },
  {
   "cell_type": "markdown",
   "metadata": {},
   "source": [
    "## Ejercicio 1\n",
    "Imprime por pantalla esta cita con el siguiente formato\n",
    "\n",
    "![imagen](./img/frase_Einstein.PNG)"
   ]
  },
  {
   "cell_type": "code",
   "execution_count": 77,
   "metadata": {},
   "outputs": [
    {
     "name": "stdout",
     "output_type": "stream",
     "text": [
      "¿Por qué esta magnífica tecnología científica,\n",
      "\tque ahorra trabajo y nos hace la vida mas fácil,\n",
      "\t\tnos aporta tan poca felicidad?\n",
      "\t\t\tLa repuesta es está, simplemente: porque aún no hemos aprendido a usarla con tino. \n",
      "\"Albert Einstein\"\n"
     ]
    }
   ],
   "source": [
    "print('¿Por qué esta magnífica tecnología científica,\\n\\tque ahorra trabajo y nos hace la vida mas fácil,\\n\\t\\tnos aporta tan poca felicidad?\\n\\t\\t\\tLa repuesta es está, simplemente: porque aún no hemos aprendido a usarla con tino. \\n\"Albert Einstein\"')"
   ]
  },
  {
   "cell_type": "code",
   "execution_count": 85,
   "metadata": {},
   "outputs": [
    {
     "name": "stdout",
     "output_type": "stream",
     "text": [
      "¿Por qué esta magnífica tecnología científica,\n",
      "        que ahorra trabajo y nos hace la vida mas fácil,\n",
      "                nos aporta tan poca felicidad?\n",
      "                    La repuesta es está, simplemente: porque aún no hemos aprendido a usarla con tino.\n",
      "\"Albert Einstein\"\n",
      "\n"
     ]
    }
   ],
   "source": [
    "\n",
    "\n",
    "mensaje = \"\"\"¿Por qué esta magnífica tecnología científica,\n",
    "        que ahorra trabajo y nos hace la vida mas fácil,\n",
    "                nos aporta tan poca felicidad?\n",
    "                    La repuesta es está, simplemente: porque aún no hemos aprendido a usarla con tino.\n",
    "\"Albert Einstein\"\n",
    "\"\"\"\n",
    "\n",
    "print(mensaje)"
   ]
  },
  {
   "cell_type": "markdown",
   "metadata": {},
   "source": [
    "## Ejercicio 2\n",
    "1. Escribe el nombre de la calle de tu domicilio\n",
    "2. Escribe el numero de la calle en otra\n",
    "3. Población en una tercera\n",
    "4. Codigo postal en la cuarta variable\n",
    "5. Crea una quinta variable que concatene todas ellas\n",
    "6. Imprimela por pantalla"
   ]
  },
  {
   "cell_type": "code",
   "execution_count": 34,
   "metadata": {},
   "outputs": [
    {
     "name": "stdout",
     "output_type": "stream",
     "text": [
      "De la Mancha 16, Madrid, 26028\n"
     ]
    }
   ],
   "source": [
    "calle = \"De la Mancha\"\n",
    "numero = 16\n",
    "poblacion = \"Madrid\"\n",
    "CP = 26028\n",
    "direccion =(f\"{calle} {numero}, {poblacion}, {CP}\")\n",
    "print(direccion)"
   ]
  },
  {
   "cell_type": "markdown",
   "metadata": {},
   "source": [
    "## Ejercicio 3\n",
    "Replica el output del ejercicio dos, pero está vez sin usar una variable intermedia que concatene todas las demas. Realiza este ejercicio en una línea, con un  único `print`"
   ]
  },
  {
   "cell_type": "code",
   "execution_count": 31,
   "metadata": {},
   "outputs": [
    {
     "name": "stdout",
     "output_type": "stream",
     "text": [
      "De la Mancha 16, Madrid, 26028\n"
     ]
    }
   ],
   "source": [
    "print(f\"{calle} {numero}, {poblacion}, {CP}\")"
   ]
  },
  {
   "cell_type": "markdown",
   "metadata": {},
   "source": [
    "## Ejercicio 4\n",
    "¿Qué variables están mal escritas y por qué? Realiza primero tu hipótesis y luego ejecuta las variables para comprobarlo. En ese orden :)\n",
    "\n",
    "\n",
    "1. mi_variable = \"Economía\"\n",
    "2. otra_var = \"Ejercicio\n",
    "3. True = \"Ejercicio\"\n",
    "4. mi variab1e = \"Alpha\"\n",
    "5. exec = True\n",
    "6. import = 40\n",
    "7. 81mi_variable = \"Agua\"\n",
    "8. mi_variable10 = 6\n"
   ]
  },
  {
   "cell_type": "markdown",
   "metadata": {},
   "source": [
    "1. Bien\n",
    "2. Mal escrita, falta doble comillas de cierre.\n",
    "3. Mal escrita, una variable no se puede llamar True\n",
    "4. Mal escrita, nu puede haber espacios en en nombre de la variable\n",
    "5. Bien\n",
    "6. Mal escrita, una variable no se puede llamar import\n",
    "7. Mal escrita, una variable no puede empezar por un número\n",
    "8. Bien"
   ]
  },
  {
   "cell_type": "code",
   "execution_count": null,
   "metadata": {},
   "outputs": [],
   "source": []
  },
  {
   "cell_type": "markdown",
   "metadata": {},
   "source": [
    "## Ejercicio 5\n",
    "Realiza un conversor de grados Celsius a Fahrenheit. El conversor tiene que recibir el input del usuario y devolver la conversión.\n",
    "\n",
    "La conversión de grados sigue la siguiente fórmula: F = (C × 9 / 5) + 32 "
   ]
  },
  {
   "cell_type": "code",
   "execution_count": 89,
   "metadata": {},
   "outputs": [
    {
     "name": "stdout",
     "output_type": "stream",
     "text": [
      "Muchas gracias! has dicho 12.6 grados.\n",
      "El resultado en grados Fahrenheit es de 54.68\n"
     ]
    }
   ],
   "source": [
    "grados =float(input(\"Hola, dime que temperatura hace en Celsius, por favor\").replace(\",\",\".\"))\n",
    "print(\"Muchas gracias! has dicho\", grados ,\"grados.\") \n",
    "conversion = ((grados * 9) / 5) + 32 \n",
    "print(\"El resultado en grados Fahrenheit es de\", conversion)"
   ]
  },
  {
   "cell_type": "markdown",
   "metadata": {},
   "source": [
    "## Ejercicio 6\n",
    "Comenta en la medida de lo posible el Ejercicio 5. Será suficiente con poner al menos un comentario de línea, y otro multilínea"
   ]
  },
  {
   "cell_type": "code",
   "execution_count": 80,
   "metadata": {},
   "outputs": [
    {
     "name": "stdout",
     "output_type": "stream",
     "text": [
      "Muchas gracias! has dicho 12.3 grados.\n",
      "El resultado en grados Fahrenheit es de 54.14\n"
     ]
    }
   ],
   "source": [
    "grados =float(input(\"Hola, dime que temperatura hace en Celsius, por favor\")) #crea la función input para preguntar los grados en celsius.\n",
    "print(\"Muchas gracias! has dicho\", grados ,\"grados.\") #Imprime la respuesta.\n",
    "conversion = ((grados * 9) / 5) + 32 #Hace la conversión\n",
    "print(\"El resultado en grados Fahrenheit es de\", conversion) #imprime el resultado de la conversión\n",
    "\n",
    "'''\n",
    "Este ejercicio sirve para convertir grados Celsius a Fahrenheit\n",
    "Pero no puede convertir grados Fahrenheit a Celsius\n",
    "''';"
   ]
  },
  {
   "cell_type": "code",
   "execution_count": null,
   "metadata": {},
   "outputs": [],
   "source": []
  }
 ],
 "metadata": {
  "kernelspec": {
   "display_name": "Python 3",
   "language": "python",
   "name": "python3"
  },
  "language_info": {
   "codemirror_mode": {
    "name": "ipython",
    "version": 3
   },
   "file_extension": ".py",
   "mimetype": "text/x-python",
   "name": "python",
   "nbconvert_exporter": "python",
   "pygments_lexer": "ipython3",
   "version": "3.13.7"
  }
 },
 "nbformat": 4,
 "nbformat_minor": 4
}
