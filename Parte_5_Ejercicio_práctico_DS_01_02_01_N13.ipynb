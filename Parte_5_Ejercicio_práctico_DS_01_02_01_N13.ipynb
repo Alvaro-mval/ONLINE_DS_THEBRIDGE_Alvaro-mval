{
 "cells": [
  {
   "cell_type": "markdown",
   "metadata": {
    "id": "9l3HMgm6RWxF"
   },
   "source": [
    "![TheBridge_logo_RGB_color.jpg](attachment:TheBridge_logo_RGB_color.jpg)"
   ]
  },
  {
   "cell_type": "markdown",
   "metadata": {
    "id": "RGg9iWpoRWxG"
   },
   "source": [
    "![ejercicios.png](attachment:ejercicios.png)"
   ]
  },
  {
   "cell_type": "markdown",
   "metadata": {
    "id": "AyOlWS2nRWxH"
   },
   "source": [
    "## PRACTICA OBLIGATORIA: COLECCIONES Y FUNCIONES"
   ]
  },
  {
   "cell_type": "markdown",
   "metadata": {
    "id": "6UOgb0KVRWxH"
   },
   "source": [
    "* La práctica obligatoria de esta unidad consiste varios ejercicios de programación libre a completar sobre Colecciones y Funciones. Descarga este notebook en tu ordenador y trabaja en local.  \n",
    "* Recuerda que debes subirla a tu repositorio personal antes de la sesión en vivo para que puntúe adecuadamente y puedas participar en dicha sesión.  \n",
    "* Recuerda también que no es necesario que esté perfecta, sólo es necesario que se vea el esfuerzo.\n",
    "* Esta práctica se resolverá en la sesión en vivo correspondiente y la solución se publicará en el repo del curso."
   ]
  },
  {
   "cell_type": "markdown",
   "metadata": {
    "id": "j3yu-tEjRWxH"
   },
   "source": [
    "### Contenidos"
   ]
  },
  {
   "cell_type": "markdown",
   "metadata": {
    "id": "kO-fLH39RWxH"
   },
   "source": [
    "## Ejercicio 1\n",
    "Eleva todos los elementos de la lista al cuadrado\n",
    "> ```ejer_2 = [1,2,3,4,5]```"
   ]
  },
  {
   "cell_type": "code",
   "execution_count": 15,
   "metadata": {
    "id": "ks5l3yi7RWxH"
   },
   "outputs": [
    {
     "name": "stdout",
     "output_type": "stream",
     "text": [
      "<class 'list'>\n",
      "[1, 4, 9, 16, 25]\n"
     ]
    }
   ],
   "source": [
    "ejer_2 = [1,2,3,4,5]\n",
    "print(type(ejer_2))\n",
    "\n",
    "ejer_cuad = [i**2 for i in ejer_2]\n",
    "print(ejer_cuad)"
   ]
  },
  {
   "cell_type": "markdown",
   "metadata": {
    "id": "kI_Xr5oFRWxI"
   },
   "source": [
    "## Ejercicio 2\n",
    "Haz un programa que detecte todos los duplicados de un elemento en una lista:\n",
    "* Utiliza una variable duplicado para asignarle el valor del elemento del que queremos encontrar todos sus duplicados.\n",
    "* El programa debe devolver todos los índices de los elementos duplicados.\n",
    "* Aplícalo para encontrar los duplicados de \"un\", \"es\" y \"binario\" de:  \n",
    "\n",
    ">```ejer_3 = [\"Un\", \"árbol\", \"binario\", \"es\", \"una\", \"estructura\", \"de\", \"un\", \"tipo\", \"particular\", \"a\", \"veces\", \"no\", \"es\", \"ni\", \"binario\"]```\n"
   ]
  },
  {
   "cell_type": "code",
   "execution_count": 39,
   "metadata": {
    "id": "cLY9WB7YRWxI"
   },
   "outputs": [
    {
     "name": "stdout",
     "output_type": "stream",
     "text": [
      "El elemento 1 NO esta repetido\n",
      "El elemento 3 esta repetido 2 veces en los indices [3, 9]\n",
      "El elemento 4 NO esta repetido\n",
      "El elemento 5 esta repetido 2 veces en los indices [1, 7]\n",
      "El elemento 6 NO esta repetido\n",
      "El elemento 7 esta repetido 2 veces en los indices [2, 8]\n",
      "El elemento 8 NO esta repetido\n",
      "Los numeros duplicados son [3, 5, 7]\n"
     ]
    }
   ],
   "source": [
    "def lista_duplicados(*args):\n",
    "    duplicados = []\n",
    "    for i in set(args):\n",
    "        if args.count(i) > 1 and i not in duplicados:\n",
    "            indices = [index for index, v in enumerate(args) if v == i]\n",
    "            duplicados.append(i)\n",
    "            print(\"El elemento\", i , \"esta repetido\", args.count(i), \"veces en los indices\", indices)\n",
    "        else:\n",
    "            print(\"El elemento\", i , \"NO esta repetido\")\n",
    "    return duplicados\n",
    "\n",
    "resultado = lista_duplicados(1,5,7,3,8,4,6,5,7,3)\n",
    "print(\"Los numeros duplicados son\", resultado)"
   ]
  },
  {
   "cell_type": "code",
   "execution_count": 40,
   "metadata": {},
   "outputs": [
    {
     "name": "stdout",
     "output_type": "stream",
     "text": [
      "El elemento ni NO esta repetido\n",
      "El elemento una NO esta repetido\n",
      "El elemento es esta repetido 2 veces en los indices [3, 13]\n",
      "El elemento a NO esta repetido\n",
      "El elemento binario esta repetido 2 veces en los indices [2, 15]\n",
      "El elemento no NO esta repetido\n",
      "El elemento árbol NO esta repetido\n",
      "El elemento un NO esta repetido\n",
      "El elemento estructura NO esta repetido\n",
      "El elemento veces NO esta repetido\n",
      "El elemento particular NO esta repetido\n",
      "El elemento de NO esta repetido\n",
      "El elemento Un NO esta repetido\n",
      "El elemento tipo NO esta repetido\n",
      "Las palabras duplicadas son ['es', 'binario']\n"
     ]
    }
   ],
   "source": [
    "def lista_duplicados(*args):\n",
    "    duplicados = []\n",
    "    for i in set(args):\n",
    "        if args.count(i) > 1 and i not in duplicados:\n",
    "            indices = [index for index, v in enumerate(args) if v == i]\n",
    "            duplicados.append(i)\n",
    "            print(\"El elemento\", i , \"esta repetido\", args.count(i), \"veces en los indices\", indices)\n",
    "        else:\n",
    "            print(\"El elemento\", i , \"NO esta repetido\")\n",
    "    return duplicados\n",
    "\n",
    "resultado_2 = lista_duplicados(\"Un\", \"árbol\", \"binario\", \"es\", \"una\", \"estructura\", \"de\", \"un\", \"tipo\", \"particular\", \"a\", \"veces\", \"no\", \"es\", \"ni\", \"binario\")\n",
    "print(\"Las palabras duplicadas son\", resultado_2)"
   ]
  },
  {
   "cell_type": "markdown",
   "metadata": {
    "id": "3WrBd5QaRWxI"
   },
   "source": [
    "## Ejercicio 3\n",
    "1. ¿Cuántas veces se repite el 3 en la siguiente tupla?\n",
    "2. Crea una tupla nueva con los elementos desde la posicion 5 a la 10.\n",
    "3. ¿Cuántos elementos tiene la tupla `ejer_3`?\n",
    "> ```ejer_9 = (3, 20, 3, 47, 19, 3, 29, 45, 67, 78, 90, 3, 3, 5, 2, 4, 7, 9, 4, 2, 4, 3, 3, 4, 6, 7)```"
   ]
  },
  {
   "cell_type": "code",
   "execution_count": 49,
   "metadata": {
    "id": "bkv_R5LYRWxI"
   },
   "outputs": [
    {
     "name": "stdout",
     "output_type": "stream",
     "text": [
      "7\n",
      "(3, 29, 45, 67, 78, 90)\n",
      "26\n"
     ]
    }
   ],
   "source": [
    "ejer_9 = (3, 20, 3, 47, 19, 3, 29, 45, 67, 78, 90, 3, 3, 5, 2, 4, 7, 9, 4, 2, 4, 3, 3, 4, 6, 7)\n",
    "\n",
    "print(ejer_9.count(3))\n",
    "\n",
    "ejer_9_bis = ejer_9[5:11] #Crea una tupla nueva con los elementos desde la posicion 5 a la 10.\n",
    "print(ejer_9_bis)\n",
    "\n",
    "print(len(ejer_9)) #¿Cuántos elementos tiene la tupla ejer_3?"
   ]
  },
  {
   "cell_type": "markdown",
   "metadata": {
    "id": "6g8Y54AeRWxI"
   },
   "source": [
    "## Ejercicio 4\n",
    "Comprueba si el numero 60 esta en la tupla del ejercicio 3"
   ]
  },
  {
   "cell_type": "code",
   "execution_count": 52,
   "metadata": {
    "id": "F8VTEZonRWxI"
   },
   "outputs": [
    {
     "name": "stdout",
     "output_type": "stream",
     "text": [
      "El numero 60 aparece 0 en la tupla\n"
     ]
    }
   ],
   "source": [
    "print(\"El numero 60 aparece\", ejer_9.count(60),\"en la tupla\")"
   ]
  },
  {
   "cell_type": "markdown",
   "metadata": {
    "id": "y0fg-ZA6RWxI"
   },
   "source": [
    "## Ejercicio 5\n",
    "1. Convierte la tupla del ejercicio 3 en una lista\n",
    "2. Convierte la tupla del ejercicio 3 en un set\n",
    "3. Convierte la tupla del ejercicio 3 en un diccionario. Usa también los indices"
   ]
  },
  {
   "cell_type": "code",
   "execution_count": 57,
   "metadata": {
    "id": "_O5hXr01RWxI"
   },
   "outputs": [
    {
     "name": "stdout",
     "output_type": "stream",
     "text": [
      "[3, 20, 3, 47, 19, 3, 29, 45, 67, 78, 90, 3, 3, 5, 2, 4, 7, 9, 4, 2, 4, 3, 3, 4, 6, 7]\n",
      "{2, 3, 67, 5, 4, 7, 6, 9, 45, 78, 47, 19, 20, 90, 29}\n",
      "{0: 3, 1: 20, 2: 3, 3: 47, 4: 19, 5: 3, 6: 29, 7: 45, 8: 67, 9: 78, 10: 90, 11: 3, 12: 3, 13: 5, 14: 2, 15: 4, 16: 7, 17: 9, 18: 4, 19: 2, 20: 4, 21: 3, 22: 3, 23: 4, 24: 6, 25: 7}\n"
     ]
    }
   ],
   "source": [
    "ejer_9 = (3, 20, 3, 47, 19, 3, 29, 45, 67, 78, 90, 3, 3, 5, 2, 4, 7, 9, 4, 2, 4, 3, 3, 4, 6, 7)\n",
    "\n",
    "ejer_9_lista = list(ejer_9)\n",
    "\n",
    "ejer_9_set = set(ejer_9)\n",
    "\n",
    "ejer_9_dict = {}\n",
    "for indice, valor in enumerate(ejer_9):\n",
    "    ejer_9_dict[indice] = valor\n",
    "\n",
    "print(ejer_9_lista)\n",
    "print(ejer_9_set)\n",
    "print(ejer_9_dict)"
   ]
  },
  {
   "cell_type": "markdown",
   "metadata": {
    "id": "eOdWWbxvRWxJ"
   },
   "source": [
    "## Ejercicio 6\n",
    "Multiplica todos los valores del diccionario\n",
    "> ```ejer_6 = {1: 11, 2: 22, 3: 33, 4: 44, 5: 55}```"
   ]
  },
  {
   "cell_type": "code",
   "execution_count": 65,
   "metadata": {
    "id": "KcuByovKRWxJ"
   },
   "outputs": [
    {
     "name": "stdout",
     "output_type": "stream",
     "text": [
      "{1: 22, 2: 44, 3: 66, 4: 88, 5: 110}\n"
     ]
    }
   ],
   "source": [
    "ejer_6 = {1: 11, 2: 22, 3: 33, 4: 44, 5: 55}\n",
    "\n",
    "ejer_6_mult = {}\n",
    "for clave, valor in ejer_6.items():\n",
    "    ejer_6_mult[clave] = valor *2\n",
    "\n",
    "print(ejer_6_mult)"
   ]
  },
  {
   "cell_type": "markdown",
   "metadata": {
    "id": "W7TUSaKRRWxJ"
   },
   "source": [
    "## Ejercicio 7\n",
    "\n",
    "1. Crea un diccionario que describa un libro, con los siguientes campos o claves: \"titulo\",\"autor\",\"idioma original\",\"año de publicación\".\n",
    "2. Crea un a lista, llamada librería.\n",
    "3. Añade cuatro libros a tu elección a la librería."
   ]
  },
  {
   "cell_type": "code",
   "execution_count": 77,
   "metadata": {
    "id": "d-IMRvxRRWxJ",
    "vscode": {
     "languageId": "plaintext"
    }
   },
   "outputs": [
    {
     "name": "stdout",
     "output_type": "stream",
     "text": [
      "{'titulo': 'El nombre del viento', 'autor': 'Patrick Rothfuss', 'idioma original': 'ingles', 'año de publicación': 2007}\n",
      "[{'titulo': 'El nombre del viento', 'autor': 'Patrick Rothfuss', 'idioma original': 'ingles', 'año de publicación': 2007}, {'titulo': 'Cien años de soledad', 'autor': 'Gabriel Garcia Marquez', 'idioma original': 'Castellano', 'año de publicación': 1967}, {'titulo': 'Ensayo sobre la ceguera', 'autor': 'Jose Saramago', 'idioma original': 'Portugues', 'año de publicación': 1995}, {'titulo': 'El arte de la guerra', 'autor': 'Sun Tzu', 'idioma original': 'Chino', 'año de publicación': 544}]\n"
     ]
    }
   ],
   "source": [
    "libro_1 = {\n",
    "    \"titulo\": \"El nombre del viento\",\n",
    "    \"autor\": \"Patrick Rothfuss\",\n",
    "    \"idioma original\": \"ingles\",\n",
    "    \"año de publicación\": 2007\n",
    "}\n",
    "print(libro_1) #Crea un diccionario que describa un libro, con los siguientes campos o claves: \"titulo\",\"autor\",\"idioma original\",\"año de publicación\".\n",
    "\n",
    "libro_2 = {\n",
    "    \"titulo\": \"Cien años de soledad\",\n",
    "    \"autor\": \"Gabriel Garcia Marquez\",\n",
    "    \"idioma original\": \"Castellano\",\n",
    "    \"año de publicación\": 1967\n",
    "}\n",
    "\n",
    "libro_3 = {\n",
    "    \"titulo\": \"Ensayo sobre la ceguera\",\n",
    "    \"autor\": \"Jose Saramago\",\n",
    "    \"idioma original\": \"Portugues\",\n",
    "    \"año de publicación\": 1995\n",
    "}\n",
    "\n",
    "libro_4 = {\n",
    "    \"titulo\": \"El arte de la guerra\",\n",
    "    \"autor\": \"Sun Tzu\",\n",
    "    \"idioma original\": \"Chino\",\n",
    "    \"año de publicación\": 544\n",
    "}\n",
    "\n",
    "libreria = [libro_1, libro_2, libro_3, libro_4] #Crea un a lista, llamada librería y Añade cuatro libros a tu elección a la librería.\n",
    "print(libreria)"
   ]
  },
  {
   "cell_type": "markdown",
   "metadata": {
    "id": "glMoedjYRWxJ"
   },
   "source": [
    "## Ejercicio 8\n",
    "Modifica los valores del idioma de todos los libros del ejercicio anterior para que sea \"esperanto\"\n"
   ]
  },
  {
   "cell_type": "code",
   "execution_count": 78,
   "metadata": {
    "id": "veNdC-uwRWxJ"
   },
   "outputs": [
    {
     "name": "stdout",
     "output_type": "stream",
     "text": [
      "[{'titulo': 'El nombre del viento', 'autor': 'Patrick Rothfuss', 'idioma original': ['Esperanto'], 'año de publicación': 2007}, {'titulo': 'Cien años de soledad', 'autor': 'Gabriel Garcia Marquez', 'idioma original': ['Esperanto'], 'año de publicación': 1967}, {'titulo': 'Ensayo sobre la ceguera', 'autor': 'Jose Saramago', 'idioma original': ['Esperanto'], 'año de publicación': 1995}, {'titulo': 'El arte de la guerra', 'autor': 'Sun Tzu', 'idioma original': ['Esperanto'], 'año de publicación': 544}]\n"
     ]
    }
   ],
   "source": [
    "for libro in libreria:\n",
    "    libro[\"idioma original\"] = [\"Esperanto\"]\n",
    "\n",
    "print(libreria)"
   ]
  },
  {
   "cell_type": "markdown",
   "metadata": {
    "id": "DRCJG04KRWxJ"
   },
   "source": [
    "## Ejercicio 9\n",
    "1. Escribe un programa que dada una variable titulo busque los libros que hay en la librería con ese título. Si no se encuentra debe devolver el mensaje `Ese no lo tengo, ¿mola?`\n",
    "2. Pruena que el programa con uno de tus libros y con otro que no contenga tu librería."
   ]
  },
  {
   "cell_type": "code",
   "execution_count": 100,
   "metadata": {
    "id": "eWHdJi9BRWxJ",
    "scrolled": true
   },
   "outputs": [
    {
     "name": "stdin",
     "output_type": "stream",
     "text": [
      "Introduce el título del libro que buscas:  el nombre del viento\n"
     ]
    },
    {
     "name": "stdout",
     "output_type": "stream",
     "text": [
      "Se han encontrado 1 coincidencias\n",
      "{'titulo': 'El nombre del viento', 'autor': 'Patrick Rothfuss', 'idioma original': ['Esperanto'], 'año de publicación': 2007}\n"
     ]
    }
   ],
   "source": [
    "titulo = input(\"Introduce el título del libro que buscas: \")\n",
    "libros_encontrados = [] #se mete el numero de libros encontrados aqui\n",
    "for libro in libreria:\n",
    "    if libro [\"titulo\"].lower() == titulo.lower():\n",
    "        libros_encontrados.append(libro) #se llena la lista cuando el titulo coincide\n",
    "    \n",
    "if libros_encontrados:\n",
    "    print(\"Se han encontrado\", len(libros_encontrados), \"coincidencias\")\n",
    "    for libro in libros_encontrados:\n",
    "        print(libro)\n",
    "else:\n",
    "    print(\"Ese no lo tengo, ¿mola?\")"
   ]
  },
  {
   "cell_type": "code",
   "execution_count": 101,
   "metadata": {},
   "outputs": [
    {
     "name": "stdin",
     "output_type": "stream",
     "text": [
      "Introduce el título del libro que buscas:  Harry Potter\n"
     ]
    },
    {
     "name": "stdout",
     "output_type": "stream",
     "text": [
      "Ese no lo tengo, ¿mola?\n"
     ]
    }
   ],
   "source": [
    "titulo = input(\"Introduce el título del libro que buscas: \")\n",
    "libros_encontrados = [] #se mete el numero de libros encontrados aqui\n",
    "for libro in libreria:\n",
    "    if libro [\"titulo\"].lower() == titulo.lower():\n",
    "        libros_encontrados.append(libro) #se llena la lista cuando el titulo coincide\n",
    "    \n",
    "if libros_encontrados:\n",
    "    print(\"Se han encontrado\", len(libros_encontrados), \"coincidencias\")\n",
    "    for libro in libros_encontrados:\n",
    "        print(libro)\n",
    "else:\n",
    "    print(\"Ese no lo tengo, ¿mola?\")"
   ]
  },
  {
   "cell_type": "markdown",
   "metadata": {
    "id": "17YOpYuFRWxJ"
   },
   "source": [
    "## Ejercicio 10\n",
    "Convierte el programa del ejercicio 2 en una función al que se le pase el valor a buscar como un argumento posicional"
   ]
  },
  {
   "cell_type": "code",
   "execution_count": 88,
   "metadata": {
    "id": "xbj0LgvnRWxJ"
   },
   "outputs": [
    {
     "name": "stdout",
     "output_type": "stream",
     "text": [
      "El elemento binario está repetido 2 veces en los índices [2, 15]\n"
     ]
    }
   ],
   "source": [
    "def lista_duplicados(valor,*args):\n",
    "    \n",
    "    indices = [index for index, v in enumerate(args) if v == valor]\n",
    "    if len(indices) > 1:\n",
    "        print(\"El elemento\", valor,\"está repetido\", len(indices), \"veces en los índices\",indices)\n",
    "    elif len(indices) == 1:\n",
    "        print(\"El elemento\", valor,\"no está repetido, solo existe una vez en el índice\",indices)\n",
    "    else:\n",
    "        print(\"El elemento\",\"valor NO se encuentra en la lista\")\n",
    "\n",
    "    return indices\n",
    "\n",
    "resultado_2 = lista_duplicados(\"binario\", \"Un\", \"árbol\", \"binario\", \"es\", \"una\", \"estructura\", \"de\", \"un\", \"tipo\", \"particular\", \"a\", \"veces\", \"no\", \"es\", \"ni\", \"binario\")"
   ]
  },
  {
   "cell_type": "markdown",
   "metadata": {
    "id": "xZ-sWJxPRWxJ"
   },
   "source": [
    "## Ejercicio 11\n",
    "Convierte el programa del ejercicio 9 en una función al que se le pasen como argumentos la librería, posicional, y el título, argumento keyword con valor \"ninguno\", por defecto."
   ]
  },
  {
   "cell_type": "code",
   "execution_count": 106,
   "metadata": {
    "id": "4-JrsMdNRWxK"
   },
   "outputs": [
    {
     "name": "stdin",
     "output_type": "stream",
     "text": [
      "Introduce el título del libro que buscas:  Memorias de África\n"
     ]
    },
    {
     "name": "stdout",
     "output_type": "stream",
     "text": [
      "Ese no lo tengo, ¿mola?\n"
     ]
    }
   ],
   "source": [
    "def buscar_libro(libreria, titulo=\"ninguno\"):\n",
    "    \n",
    "    titulo = input(\"Introduce el título del libro que buscas: \")\n",
    "    libros_encontrados = [] #se mete el numero de libros encontrados aqui\n",
    "    for libro in libreria:\n",
    "        if libro [\"titulo\"].lower() == titulo.lower():\n",
    "            libros_encontrados.append(libro) #se llena la lista cuando el titulo coincide\n",
    "        \n",
    "    if libros_encontrados:\n",
    "        print(\"Se han encontrado\", len(libros_encontrados), \"coincidencias\")\n",
    "        for libro in libros_encontrados:\n",
    "            print(libro)\n",
    "    else:\n",
    "        print(\"Ese no lo tengo, ¿mola?\")\n",
    "\n",
    "buscar_libro(libreria)"
   ]
  },
  {
   "cell_type": "markdown",
   "metadata": {
    "id": "FtJir95QRWxK"
   },
   "source": [
    "## Ejercicio 12\n",
    "Solicitar al usuario que ingrese su dirección email. Imprimir un mensaje indicando si la dirección es válida o no, valiéndose de una función para decidirlo. Una dirección se considerará válida si contiene el símbolo \"@\"."
   ]
  },
  {
   "cell_type": "code",
   "execution_count": 116,
   "metadata": {
    "id": "sk852IZ8RWxK"
   },
   "outputs": [
    {
     "name": "stdin",
     "output_type": "stream",
     "text": [
      "Buenos días, por favor introduzca su dirección de correo electrónico alvaro.mval10@gmail.com\n"
     ]
    },
    {
     "name": "stdout",
     "output_type": "stream",
     "text": [
      "Muchas gracias, has escrito alvaro.mval10@gmail.com\n",
      "Muy bien, su dirección es valida\n"
     ]
    }
   ],
   "source": [
    "direccion = input(\"Buenos días, por favor introduzca su dirección de correo electrónico\")\n",
    "print(\"Muchas gracias, has escrito\", direccion)\n",
    "if  \"@\" in direccion:\n",
    "    print(\"Muy bien, su dirección es valida\")\n",
    "\n",
    "else:\n",
    "    print(\"Lo siento, su dirección necesita un '@' para ser valida\")"
   ]
  },
  {
   "cell_type": "code",
   "execution_count": 117,
   "metadata": {},
   "outputs": [
    {
     "name": "stdin",
     "output_type": "stream",
     "text": [
      "Buenos días, por favor introduzca su dirección de correo electrónico alvaro.mval10gmail.com\n"
     ]
    },
    {
     "name": "stdout",
     "output_type": "stream",
     "text": [
      "Muchas gracias, has escrito alvaro.mval10gmail.com\n",
      "Lo siento, su dirección necesita un '@' para ser valida\n"
     ]
    }
   ],
   "source": [
    "direccion = input(\"Buenos días, por favor introduzca su dirección de correo electrónico\")\n",
    "print(\"Muchas gracias, has escrito\", direccion)\n",
    "if  \"@\" in direccion:\n",
    "    print(\"Muy bien, su dirección es valida\")\n",
    "\n",
    "else:\n",
    "    print(\"Lo siento, su dirección necesita un '@' para ser valida\")"
   ]
  },
  {
   "cell_type": "markdown",
   "metadata": {
    "id": "Kw1MWBwBRWxK"
   },
   "source": [
    "## Ejercicio 13\n",
    "Escribe una función que compruebe si un DNI es válido, devolviendo `True` en caso afirmativo.  \n",
    "En primer lugar, el DNI debe tener entre 7 y 8 dígitos numéricos.  \n",
    "Para saber si la letra del DNI es correcta puedes utilizar el siguiente fragmento de código:\n",
    ">```Python\n",
    ">DNI= 55555555\n",
    ">palabra='TRWAGMYFPDXBNJZSQVHLCKE'\n",
    ">print('La letra del DNI es: ', palabra[DNI%23])\n",
    ">````\n"
   ]
  },
  {
   "cell_type": "code",
   "execution_count": 127,
   "metadata": {
    "id": "F5Z9rSHqRWxK"
   },
   "outputs": [
    {
     "data": {
      "text/plain": [
       "True"
      ]
     },
     "execution_count": 127,
     "metadata": {},
     "output_type": "execute_result"
    }
   ],
   "source": [
    "def validar_dni(dni):\n",
    "    if len(dni) not in [8, 9]: #Comprobar logitud de los digitos\n",
    "        return False \n",
    "        \n",
    "    letra = dni[-1].upper() #separar la letra y hacerla mayuscula si no es el caso\n",
    "    numeros = dni[:-1]\n",
    "    if not numeros.isdigit(): #separar numeros y comprobar que sean digitos\n",
    "        return False\n",
    "\n",
    "    palabra = 'TRWAGMYFPDXBNJZSQVHLCKE' #comprobar la buena letra\n",
    "    numero = int(numeros)\n",
    "    letra_correcta = palabra[numero % 23]\n",
    "    return letra == letra_correcta\n",
    "\n",
    "validar_dni(\"05934133H\")"
   ]
  },
  {
   "cell_type": "code",
   "execution_count": 128,
   "metadata": {},
   "outputs": [
    {
     "data": {
      "text/plain": [
       "False"
      ]
     },
     "execution_count": 128,
     "metadata": {},
     "output_type": "execute_result"
    }
   ],
   "source": [
    "def validar_dni(dni):\n",
    "    if len(dni) not in [8, 9]: #Comprobar logitud de los digitos\n",
    "        return False \n",
    "        \n",
    "    letra = dni[-1].upper() #separar la letra y hacerla mayuscula si no es el caso\n",
    "    numeros = dni[:-1]\n",
    "    if not numeros.isdigit(): #separar numeros y comprobar que sean digitos\n",
    "        return False\n",
    "\n",
    "    palabra = 'TRWAGMYFPDXBNJZSQVHLCKE' #comprobar la buena letra\n",
    "    numero = int(numeros)\n",
    "    letra_correcta = palabra[numero % 23]\n",
    "    return letra == letra_correcta\n",
    "\n",
    "validar_dni(\"059356133H\")"
   ]
  },
  {
   "cell_type": "code",
   "execution_count": null,
   "metadata": {},
   "outputs": [],
   "source": []
  }
 ],
 "metadata": {
  "colab": {
   "provenance": []
  },
  "kernelspec": {
   "display_name": "Python 3 (ipykernel)",
   "language": "python",
   "name": "python3"
  },
  "language_info": {
   "codemirror_mode": {
    "name": "ipython",
    "version": 3
   },
   "file_extension": ".py",
   "mimetype": "text/x-python",
   "name": "python",
   "nbconvert_exporter": "python",
   "pygments_lexer": "ipython3",
   "version": "3.13.7"
  }
 },
 "nbformat": 4,
 "nbformat_minor": 4
}
