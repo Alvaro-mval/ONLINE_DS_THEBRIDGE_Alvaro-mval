{
 "cells": [
  {
   "attachments": {},
   "cell_type": "markdown",
   "metadata": {},
   "source": [
    "![imagen](./img/ejercicios.png)"
   ]
  },
  {
   "attachments": {},
   "cell_type": "markdown",
   "metadata": {},
   "source": [
    "# Ejercicios Python Basics II"
   ]
  },
  {
   "attachments": {},
   "cell_type": "markdown",
   "metadata": {},
   "source": [
    "## Ejercicio 1\n",
    "* Crea dos variables numericas: un `int` y un `float`\n",
    "* Comprueba sus tipos\n",
    "* Sumalas en otra nueva\n",
    "* ¿De qué tipo es la nueva variable?\n",
    "* Elimina las dos primeras variables creadas"
   ]
  },
  {
   "cell_type": "code",
   "execution_count": 5,
   "metadata": {},
   "outputs": [
    {
     "name": "stdout",
     "output_type": "stream",
     "text": [
      "<class 'int'> 22\n",
      "<class 'float'> 4.5\n",
      "<class 'float'> 26.5\n"
     ]
    }
   ],
   "source": [
    "var_int = 22\n",
    "var_float = 4.5\n",
    "print(type(var_int), var_int)\n",
    "print(type(var_float), var_float)\n",
    "var_suma = var_int + var_float\n",
    "print(type(var_suma), var_suma)\n",
    "\n",
    "del var_int, var_float"
   ]
  },
  {
   "attachments": {},
   "cell_type": "markdown",
   "metadata": {},
   "source": [
    "## Ejercicio 2\n",
    "Escribe un programa para pasar de grados a radianes. Hay que usar `input`. Recuerda que la conversión se realiza mediante\n",
    "\n",
    "radianes = grados*(pi/180)"
   ]
  },
  {
   "cell_type": "code",
   "execution_count": 11,
   "metadata": {},
   "outputs": [
    {
     "name": "stdout",
     "output_type": "stream",
     "text": [
      "Muchas gracias! has dicho 60 grados.\n",
      "El resultado en radianes es de 1.0471975511965976\n"
     ]
    }
   ],
   "source": [
    "grados =input(\"Hola, este es el convertidor de grados a radianes. Dime cuantos grados quieres convertir, por favor\")\n",
    "print(\"Muchas gracias! has dicho\", grados ,\"grados.\")\n",
    "import math\n",
    "conversion = float(grados) * ((math.pi) / 180)\n",
    "print(\"El resultado en radianes es de\", conversion)"
   ]
  },
  {
   "attachments": {},
   "cell_type": "markdown",
   "metadata": {},
   "source": [
    "## Ejercicio 3\n",
    "Escribe un programa que calcule el area de un paralelogramo (base x altura). También con `input`"
   ]
  },
  {
   "cell_type": "code",
   "execution_count": 13,
   "metadata": {},
   "outputs": [
    {
     "name": "stdout",
     "output_type": "stream",
     "text": [
      "Muchas gracias! has dicho 12 cm.\n",
      "Muchas gracias! has dicho 5 cm.\n",
      "El area de tu paralelogramo es de 60.0 cm.\n"
     ]
    }
   ],
   "source": [
    "base =input(\"Hola, este es el calculador de paralelogramos. Dime la base, por favor\")\n",
    "print(\"Muchas gracias! has dicho\", base ,\"cm.\")\n",
    "altura =input(\"Muy bien! ahora, por favor, dime la altura\")\n",
    "print(\"Muchas gracias! has dicho\", altura ,\"cm.\")\n",
    "area = float(base) * float(altura)\n",
    "print(\"El area de tu paralelogramo es de\",area, \"cm.\")"
   ]
  },
  {
   "attachments": {},
   "cell_type": "markdown",
   "metadata": {},
   "source": [
    "## Ejercicio 4\n",
    "Tenemos las siguientes variables:\n",
    "\n",
    "```Python\n",
    "A = 4\n",
    "B = \"Text\"\n",
    "C = 4.1\n",
    "```\n",
    "\n",
    "Comprueba:\n",
    "1. Si A y B son equivalentes\n",
    "2. Si A y C NO son equivalentes\n",
    "3. Si A es mayor que C \n",
    "4. Si C es menor o igual que A\n",
    "5. Si B NO es equivalente a C"
   ]
  },
  {
   "cell_type": "code",
   "execution_count": 20,
   "metadata": {},
   "outputs": [
    {
     "name": "stdout",
     "output_type": "stream",
     "text": [
      "False\n",
      "True\n",
      "False\n",
      "False\n",
      "True\n"
     ]
    }
   ],
   "source": [
    "A = 4\n",
    "B = \"Text\"\n",
    "C = 4.1\n",
    "\n",
    "print(A==B)\n",
    "print(A!=C)\n",
    "print(A>C)\n",
    "print(C<=A)\n",
    "print(B!=C)"
   ]
  },
  {
   "attachments": {},
   "cell_type": "markdown",
   "metadata": {},
   "source": [
    "## Ejercicio 5\n",
    "Crea un programa donde se recojan dos inputs del usuario, y el output del programa sea si esos inputs son iguales o no"
   ]
  },
  {
   "cell_type": "code",
   "execution_count": 22,
   "metadata": {},
   "outputs": [
    {
     "name": "stdout",
     "output_type": "stream",
     "text": [
      "Muchas gracias! has dicho que tu color favorito es Verde\n",
      "Muchas gracias! has dicho que el color favorito de tu madre es Rojo\n",
      "El color favorito de tu madre y tu es diferente\n"
     ]
    }
   ],
   "source": [
    "color1 =input(\"Hola, este es el comparador de colores. Dime tu color favorito, por favor\")\n",
    "print(\"Muchas gracias! has dicho que tu color favorito es\", color1)\n",
    "color2 =input(\"Muy bien! ahora, por favor, dime el color favorito de tu madre\")\n",
    "print(\"Muchas gracias! has dicho que el color favorito de tu madre es\", color2)\n",
    "if color1 ==color2:\n",
    "    print(\"Tu madre y tu teneis el mismo color favorito\")\n",
    "else:\n",
    "    print(\"El color favorito de tu madre y tu es diferente\")"
   ]
  },
  {
   "attachments": {},
   "cell_type": "markdown",
   "metadata": {},
   "source": [
    "## Ejercicio 6\n",
    "Mismo programa que en 5, pero en esta ocasión tienen que ser tres inputs y dos salidas. Una de las salidas que nos indique si todos son iguales, y la otra si al menos dos inputs sí que lo son"
   ]
  },
  {
   "cell_type": "code",
   "execution_count": 29,
   "metadata": {},
   "outputs": [
    {
     "name": "stdout",
     "output_type": "stream",
     "text": [
      "Muchas gracias! has dicho que tu color favorito es Azul\n",
      "Muchas gracias! has dicho que el color favorito de tu madre es Rojo\n",
      "Muchas gracias! has dicho que el color favorito de tu padre es Amarillo\n",
      "Nadie de tu familia tiene el mismo color favorito\n"
     ]
    }
   ],
   "source": [
    "color1 =input(\"Hola, este es el comparador de colores. Dime tu color favorito, por favor\")\n",
    "print(\"Muchas gracias! has dicho que tu color favorito es\", color1)\n",
    "color2 =input(\"Muy bien! ahora, por favor, dime el color favorito de tu madre\")\n",
    "print(\"Muchas gracias! has dicho que el color favorito de tu madre es\", color2)\n",
    "color3 =input(\"Muy bien! ahora, por favor, dime el color favorito de tu padre\")\n",
    "print(\"Muchas gracias! has dicho que el color favorito de tu padre es\", color3)\n",
    "if color1 ==color2 ==color3:\n",
    "    print(\"Tu madre, tu padre y tu teneis el mismo color favorito\")\n",
    "elif color1 ==color2 or color1 ==color3 or color2 ==color3:\n",
    "    print(\"Al menos dos miembros de la familia tienen el mismo color favorito\")\n",
    "else:\n",
    "    print(\"Nadie de tu familia tiene el mismo color favorito\")"
   ]
  },
  {
   "attachments": {},
   "cell_type": "markdown",
   "metadata": {},
   "source": [
    "## Ejercicio 7\n",
    "Crea un programa que recoja dos inputs. Tiene que comprobar si su suma es igual, superior o inferior a 10"
   ]
  },
  {
   "cell_type": "code",
   "execution_count": 31,
   "metadata": {},
   "outputs": [
    {
     "name": "stdout",
     "output_type": "stream",
     "text": [
      "Muchas gracias! tu primer número es 2\n",
      "Muchas gracias! tu segundo número es 1\n",
      "La suma de los números es menor que diez: True\n"
     ]
    }
   ],
   "source": [
    "numero1 =input(\"Hola, este es el comparador de números. Dime un número, por favor\")\n",
    "print(\"Muchas gracias! tu primer número es\", numero1)\n",
    "numero2 =input(\"Muy bien! ahora, por favor, dime el segundo número\")\n",
    "print(\"Muchas gracias! tu segundo número es\", numero2)\n",
    "suma = float(numero1) + float(numero2)\n",
    "if suma < 10:\n",
    "    print(\"La suma de los números es menor que diez: True\")\n",
    "elif suma == 10:\n",
    "    print(\"La suma de los números es igual a diez: False\")\n",
    "else:\n",
    "    print(\"La suma de los números es mayor que diez: False\")"
   ]
  },
  {
   "attachments": {},
   "cell_type": "markdown",
   "metadata": {},
   "source": [
    "## Ejercicio 8\n",
    "Razona sin ejecutar código el output que obtendremos de las siguientes sentencias\n",
    "1. True and True and False\n",
    "2. not ((True or False) and (True or False))\n",
    "3. (False or False or False or True) and False\n",
    "4. not False and True and not True"
   ]
  },
  {
   "attachments": {},
   "cell_type": "markdown",
   "metadata": {},
   "source": [
    "1. False\n",
    "2. False\n",
    "3. False\n",
    "4. False"
   ]
  },
  {
   "attachments": {},
   "cell_type": "markdown",
   "metadata": {},
   "source": [
    "## Ejercicio 9\n",
    "Para este ejercicio vamos a poner en práctica [las funciones built in](https://docs.python.org/3/library/functions.html).\n",
    "\n",
    "1. Calcula el máximo de la lista: [4, 6, 8, -1]\n",
    "2. Suma todos los elementos de la lista anterior\n",
    "3. Redondea este float a 3 dígitos decimales: 63.451256965\n",
    "4. Valor absoluto de: -74"
   ]
  },
  {
   "cell_type": "code",
   "execution_count": 37,
   "metadata": {},
   "outputs": [
    {
     "name": "stdout",
     "output_type": "stream",
     "text": [
      "8\n",
      "17\n",
      "63.451\n",
      "74\n"
     ]
    }
   ],
   "source": [
    "lista=[4, 6, 8, -1]\n",
    "\n",
    "print(max(lista))\n",
    "print(sum(lista))\n",
    "\n",
    "\n",
    "print(round(63.451256965,3))\n",
    "print(abs(-74))"
   ]
  },
  {
   "attachments": {},
   "cell_type": "markdown",
   "metadata": {},
   "source": [
    "## Ejercicio 10\n",
    "Para el siguiente string se pide imprimir por pantalla los siguientes casos\n",
    "\n",
    "    \"En un lugar de la Mancha, de cuyo nombre no quiero acordarme.\"\n",
    "\n",
    "1. Pásalo todo a mayúsculas\n",
    "2. Pásalo todo a minúsculas\n",
    "3. Solo la primera letra de cada palabra en mayúscula, el resto en minúscula\n",
    "4. Crea una lista dividiéndolo por sus espacios\n",
    "5. Sustituye las comas `,` por puntos y comas `;`\n",
    "6. Elimina las `a` minúsculas"
   ]
  },
  {
   "cell_type": "code",
   "execution_count": 49,
   "metadata": {},
   "outputs": [
    {
     "name": "stdout",
     "output_type": "stream",
     "text": [
      "EN UN LUGAR DE LA MANCHA, DE CUYO NOMBRE NO QUIERO ACORDARME.\n",
      "en un lugar de la mancha, de cuyo nombre no quiero acordarme.\n",
      "En Un Lugar De La Mancha, De Cuyo Nombre No Quiero Acordarme.\n",
      "['En', 'un', 'lugar', 'de', 'la', 'Mancha,', 'de', 'cuyo', 'nombre', 'no', 'quiero', 'acordarme.']\n",
      "En un lugar de la Mancha; de cuyo nombre no quiero acordarme.\n",
      "En un lugr de l Mnch, de cuyo nombre no quiero cordrme.\n"
     ]
    }
   ],
   "source": [
    "frase = \"En un lugar de la Mancha, de cuyo nombre no quiero acordarme.\"\n",
    "\n",
    "print(frase.upper())\n",
    "print(frase.lower())\n",
    "print(frase.title())\n",
    "print(frase.split(\" \"))\n",
    "print(frase.replace(\",\",\";\"))\n",
    "print(frase.replace(\"a\",\"\"))"
   ]
  },
  {
   "attachments": {},
   "cell_type": "markdown",
   "metadata": {},
   "source": [
    "## Ejercicio 11\n",
    "1. Crea una lista con 3 elementos numéricos\n",
    "2. Añade un cuarto elemento\n",
    "3. Calcula la suma de todos\n",
    "4. Elimina el segundo elemento de la lista\n",
    "5. Añade otro elemento en la posicion 3 de la lista\n",
    "6. Crea otra lista con 4 elementos y concaténala a la que ya tenías."
   ]
  },
  {
   "cell_type": "code",
   "execution_count": 50,
   "metadata": {},
   "outputs": [
    {
     "name": "stdout",
     "output_type": "stream",
     "text": [
      "[7, 2, 9]\n",
      "[7, 2, 9, 4]\n",
      "22\n",
      "[7, 9, 4]\n",
      "[7, 9, 6, 4]\n",
      "[7, 9, 6, 4, 1, 3, 9, 3]\n",
      "[1, 3, 3, 4, 6, 7, 9, 9]\n",
      "[9, 9, 7, 6, 4, 3, 3, 1]\n"
     ]
    }
   ],
   "source": [
    "lista = [ 7, 2, 9]\n",
    "print(lista)\n",
    "\n",
    "lista.append(4)\n",
    "print(lista)\n",
    "\n",
    "suma = sum(lista)\n",
    "print(suma)\n",
    "\n",
    "lista.pop(1) \n",
    "print(lista)\n",
    "lista.insert(2, 6) \n",
    "print(lista)\n",
    "\n",
    "lista_2 = [1, 3, 9, 3]\n",
    "lista_fin = lista + lista_2\n",
    "print(lista_fin)\n",
    "\n",
    "lista_fin.sort() \n",
    "print(lista_fin)\n",
    "\n",
    "lista_fin.sort(reverse=True)\n",
    "print(lista_fin)"
   ]
  }
 ],
 "metadata": {
  "kernelspec": {
   "display_name": "Python 3",
   "language": "python",
   "name": "python3"
  },
  "language_info": {
   "codemirror_mode": {
    "name": "ipython",
    "version": 3
   },
   "file_extension": ".py",
   "mimetype": "text/x-python",
   "name": "python",
   "nbconvert_exporter": "python",
   "pygments_lexer": "ipython3",
   "version": "3.13.7"
  }
 },
 "nbformat": 4,
 "nbformat_minor": 4
}
