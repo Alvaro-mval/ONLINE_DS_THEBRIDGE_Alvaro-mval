{
 "cells": [
  {
   "cell_type": "markdown",
   "metadata": {
    "id": "GB2K42EgK9q5"
   },
   "source": [
    "![TheBridge_logo_RGB_color.jpg](attachment:TheBridge_logo_RGB_color.jpg)"
   ]
  },
  {
   "cell_type": "markdown",
   "metadata": {
    "id": "GnwVlO37K9q6"
   },
   "source": [
    "![imagen](./img/ejercicios.png)"
   ]
  },
  {
   "cell_type": "markdown",
   "metadata": {
    "id": "_9pTa0PXK9q6"
   },
   "source": [
    "## EJERCICIOS PYTHON BASICO 2:\n",
    "## Tipos y conversión de tipos"
   ]
  },
  {
   "cell_type": "markdown",
   "metadata": {
    "id": "tYmV-veoK9q6"
   },
   "source": [
    "Completa los siguiente ejercicios, la solución a los mismos se publicarán en el repo del curso a lo largo del sprint"
   ]
  },
  {
   "cell_type": "markdown",
   "metadata": {
    "id": "YAdFbIOXK9q7"
   },
   "source": [
    "![ejercicio.png](./img/ejercicio.png)\n",
    "\n",
    "## Ejercicio 1\n",
    "\n",
    "1. Crea dos variables numericas: un `int` y un `float`\n",
    "2. Comprueba sus tipos\n",
    "3. Sumalas en otra nueva\n",
    "4. ¿De qué tipo es la nueva variable?\n",
    "5. Elimina las dos primeras variables creadas"
   ]
  },
  {
   "cell_type": "code",
   "execution_count": 9,
   "metadata": {
    "id": "8QZmuLOsK9q7"
   },
   "outputs": [
    {
     "name": "stdout",
     "output_type": "stream",
     "text": [
      "5 <class 'int'>\n",
      "2.5 <class 'float'>\n",
      "7.5 <class 'float'>\n"
     ]
    },
    {
     "ename": "NameError",
     "evalue": "name 'var_ent' is not defined",
     "output_type": "error",
     "traceback": [
      "\u001b[31m---------------------------------------------------------------------------\u001b[39m",
      "\u001b[31mNameError\u001b[39m                                 Traceback (most recent call last)",
      "\u001b[36mCell\u001b[39m\u001b[36m \u001b[39m\u001b[32mIn[9]\u001b[39m\u001b[32m, line 12\u001b[39m\n\u001b[32m      8\u001b[39m \u001b[38;5;28mprint\u001b[39m(var_total, \u001b[38;5;28mtype\u001b[39m(var_total)) \u001b[38;5;66;03m#¿De qué tipo es la nueva variable?\u001b[39;00m\n\u001b[32m     10\u001b[39m \u001b[38;5;28;01mdel\u001b[39;00m var_ent, var_real \u001b[38;5;66;03m#Elimina las dos primeras variables creadas\u001b[39;00m\n\u001b[32m---> \u001b[39m\u001b[32m12\u001b[39m \u001b[38;5;28mprint\u001b[39m(\u001b[43mvar_ent\u001b[49m,var_real)\n",
      "\u001b[31mNameError\u001b[39m: name 'var_ent' is not defined"
     ]
    }
   ],
   "source": [
    "var_ent = 5 #Crea dos variables numericas: un int y un float\n",
    "var_real = 2.5\n",
    "\n",
    "print(var_ent, type(var_ent)) #Comprueba sus tipos\n",
    "print(var_real, type(var_real))\n",
    "\n",
    "var_total = var_ent + var_real #Sumalas en otra nueva\n",
    "print(var_total, type(var_total)) #¿De qué tipo es la nueva variable?\n",
    "\n",
    "del var_ent, var_real #Elimina las dos primeras variables creadas\n",
    "\n",
    "print(var_ent,var_real)"
   ]
  },
  {
   "cell_type": "markdown",
   "metadata": {
    "id": "f5xfpkpQK9q7"
   },
   "source": [
    "![ejercicio.png](./img/ejercicio.png)\n",
    "\n",
    "## Ejercicio 2\n",
    "Escribe un programa para pasar de grados a radianes. Hay que usar `input`. Recuerda que la conversión se realiza mediante\n",
    "\n",
    "radianes = grados*(pi/180)"
   ]
  },
  {
   "cell_type": "code",
   "execution_count": 18,
   "metadata": {
    "id": "V50TUQMzK9q7"
   },
   "outputs": [
    {
     "name": "stdin",
     "output_type": "stream",
     "text": [
      "Hola, este es el convertidor de grados a radianes, que conversión quieres hacer?  50\n"
     ]
    },
    {
     "name": "stdout",
     "output_type": "stream",
     "text": [
      "Has escrito: 50 grados\n",
      "El resultado de tu consulta es 0.8726646259971648 radianes\n"
     ]
    }
   ],
   "source": [
    "var_grados = input(\"Hola, este es el convertidor de grados a radianes, que conversión quieres hacer? \")\n",
    "print(\"Has escrito:\", var_grados, \"grados\")\n",
    "var_grados_real = float(var_grados)\n",
    "import math\n",
    "\n",
    "var_radianes = var_grados_real* ((math.pi)/180)\n",
    "print(\"El resultado de tu consulta es\", var_radianes, \"radianes\")"
   ]
  },
  {
   "cell_type": "markdown",
   "metadata": {
    "id": "zX3-p58CK9q7"
   },
   "source": [
    "![ejercicio.png](./img/ejercicio.png)\n",
    "\n",
    "## Ejercicio 3\n",
    "Escribe un programa que calcule el area de un paralelogramo (base x altura). También con `input`"
   ]
  },
  {
   "cell_type": "code",
   "execution_count": 23,
   "metadata": {
    "id": "s2QfNiBAK9q7"
   },
   "outputs": [
    {
     "name": "stdin",
     "output_type": "stream",
     "text": [
      "Hola, este es el calculador de areas de paralelogramos, podrías decirme la base de tu paralelogramo?  5\n"
     ]
    },
    {
     "name": "stdout",
     "output_type": "stream",
     "text": [
      "Has escrito: 5 centímetros\n"
     ]
    },
    {
     "name": "stdin",
     "output_type": "stream",
     "text": [
      "muy bien! ahora podrías decirme la altura de tu paralelogramo?  7\n"
     ]
    },
    {
     "name": "stdout",
     "output_type": "stream",
     "text": [
      "Has escrito: 7 centímetros, muchas gracias\n",
      "El area de tu paralelogramo es de 35 centímetros\n"
     ]
    }
   ],
   "source": [
    "var_base = int(input(\"Hola, este es el calculador de areas de paralelogramos, podrías decirme la base de tu paralelogramo? \"))\n",
    "print(\"Has escrito:\", var_base, \"centímetros\")\n",
    "var_altura = int(input(\"muy bien! ahora podrías decirme la altura de tu paralelogramo? \"))\n",
    "print(\"Has escrito:\", var_altura, \"centímetros, muchas gracias\")\n",
    "\n",
    "print(\"El area de tu paralelogramo es de\", var_base*var_altura, \"centímetros\")"
   ]
  },
  {
   "cell_type": "markdown",
   "metadata": {
    "id": "-6TBo_HvK9q8"
   },
   "source": [
    "![ejercicio.png](./img/ejercicio.png)\n",
    "\n",
    "## Ejercicio 4\n",
    "Escribe un programa que calcule el area de un paralelogramo (base x altura). También con `input`. En este caso debe ser capaz de admitir valores reales, con decimales, para base y altura en español. (PISTA: Recuerda que tendrás que hacer uso del método replace)"
   ]
  },
  {
   "cell_type": "code",
   "execution_count": 28,
   "metadata": {
    "id": "uzUIa1JqK9q8"
   },
   "outputs": [
    {
     "name": "stdin",
     "output_type": "stream",
     "text": [
      "Hola, este es el calculador de areas de paralelogramos, podrías decirme la base de tu paralelogramo?  5,3\n"
     ]
    },
    {
     "name": "stdout",
     "output_type": "stream",
     "text": [
      "Has escrito: 5,3 centímetros\n"
     ]
    },
    {
     "name": "stdin",
     "output_type": "stream",
     "text": [
      "muy bien! ahora podrías decirme la altura de tu paralelogramo?  6,6\n"
     ]
    },
    {
     "name": "stdout",
     "output_type": "stream",
     "text": [
      "Has escrito: 6,6 centímetros, muchas gracias\n",
      "El area de tu paralelogramo es de 34.98 centímetros\n"
     ]
    }
   ],
   "source": [
    "var_base = (input(\"Hola, este es el calculador de areas de paralelogramos, podrías decirme la base de tu paralelogramo? \"))\n",
    "print(\"Has escrito:\", var_base, \"centímetros\")\n",
    "var_altura = (input(\"muy bien! ahora podrías decirme la altura de tu paralelogramo? \"))\n",
    "print(\"Has escrito:\", var_altura, \"centímetros, muchas gracias\")\n",
    "\n",
    "var_float_base = float(var_base.replace(\",\", \".\"))\n",
    "var_float_altura = float(var_altura.replace(\",\", \".\"))\n",
    "\n",
    "print(\"El area de tu paralelogramo es de\", var_float_base*var_float_altura, \"centímetros\")"
   ]
  },
  {
   "cell_type": "markdown",
   "metadata": {
    "id": "5zKugi5iK9q8"
   },
   "source": [
    "![ejercicio.png](./img/ejercicio.png)\n",
    "\n",
    "## Ejercicio 5\n",
    "Complete el siguiente código para solicitar al usuario su nombre y su edad. Luego, calcule en qué año nació el usuario y muestre el resultado."
   ]
  },
  {
   "cell_type": "code",
   "execution_count": 39,
   "metadata": {
    "id": "LISfTnRkK9q8"
   },
   "outputs": [
    {
     "name": "stdin",
     "output_type": "stream",
     "text": [
      "¿Cuál es tu nombre?  Alvaro\n",
      "¿Cuál es tu edad?  34\n"
     ]
    },
    {
     "name": "stdout",
     "output_type": "stream",
     "text": [
      "Alvaro, naciste en el año 1991.\n"
     ]
    }
   ],
   "source": [
    "nombre = input(\"¿Cuál es tu nombre? \")\n",
    "edad = int(input(\"¿Cuál es tu edad? \"))\n",
    "año_actual = int(2025)  # Puedes cambiarlo según el año en curso\n",
    "\n",
    "año_nacimiento = año_actual - edad\n",
    "\n",
    "print(f\"{nombre}, naciste en el año {año_nacimiento}.\")\n"
   ]
  },
  {
   "cell_type": "code",
   "execution_count": null,
   "metadata": {},
   "outputs": [],
   "source": []
  }
 ],
 "metadata": {
  "colab": {
   "provenance": []
  },
  "kernelspec": {
   "display_name": "Python 3 (ipykernel)",
   "language": "python",
   "name": "python3"
  },
  "language_info": {
   "codemirror_mode": {
    "name": "ipython",
    "version": 3
   },
   "file_extension": ".py",
   "mimetype": "text/x-python",
   "name": "python",
   "nbconvert_exporter": "python",
   "pygments_lexer": "ipython3",
   "version": "3.13.7"
  }
 },
 "nbformat": 4,
 "nbformat_minor": 4
}
